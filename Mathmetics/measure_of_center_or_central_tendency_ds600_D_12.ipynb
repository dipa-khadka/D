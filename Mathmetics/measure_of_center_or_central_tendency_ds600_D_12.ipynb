{
  "nbformat": 4,
  "nbformat_minor": 0,
  "metadata": {
    "colab": {
      "provenance": []
    },
    "kernelspec": {
      "name": "python3",
      "display_name": "Python 3"
    },
    "language_info": {
      "name": "python"
    }
  },
  "cells": [
    {
      "cell_type": "markdown",
      "source": [],
      "metadata": {
        "id": "DA-PENYfvkW8"
      }
    },
    {
      "cell_type": "code",
      "execution_count": null,
      "metadata": {
        "id": "2m6ZmGXSvipV"
      },
      "outputs": [],
      "source": [
        "import numpy as np\n",
        "import pandas as pd\n"
      ]
    },
    {
      "cell_type": "code",
      "source": [
        "data= np.arange(1,6)\n",
        "data"
      ],
      "metadata": {
        "colab": {
          "base_uri": "https://localhost:8080/"
        },
        "id": "PcKe5SdovwDG",
        "outputId": "be6063d8-2b3b-46f9-fd09-4ff4ddf902e0"
      },
      "execution_count": null,
      "outputs": [
        {
          "output_type": "execute_result",
          "data": {
            "text/plain": [
              "array([1, 2, 3, 4, 5])"
            ]
          },
          "metadata": {},
          "execution_count": 3
        }
      ]
    },
    {
      "cell_type": "code",
      "source": [
        "mean= np.mean(data)\n",
        "mean"
      ],
      "metadata": {
        "colab": {
          "base_uri": "https://localhost:8080/"
        },
        "id": "Vf29eUUXv36I",
        "outputId": "abc0dd0f-e8b9-48b6-9f18-5287abb5c902"
      },
      "execution_count": null,
      "outputs": [
        {
          "output_type": "execute_result",
          "data": {
            "text/plain": [
              "3.0"
            ]
          },
          "metadata": {},
          "execution_count": 4
        }
      ]
    },
    {
      "cell_type": "code",
      "source": [
        "median = np.median(data)\n",
        "median"
      ],
      "metadata": {
        "colab": {
          "base_uri": "https://localhost:8080/"
        },
        "id": "mdwJtRl6v93U",
        "outputId": "0975a0eb-c6fb-48bc-a32c-747b098a05a2"
      },
      "execution_count": null,
      "outputs": [
        {
          "output_type": "execute_result",
          "data": {
            "text/plain": [
              "3.0"
            ]
          },
          "metadata": {},
          "execution_count": 5
        }
      ]
    },
    {
      "cell_type": "code",
      "source": [
        "# mean huda hudau median kina chiyo?"
      ],
      "metadata": {
        "id": "Dv8y0spcwD4C"
      },
      "execution_count": null,
      "outputs": []
    },
    {
      "cell_type": "markdown",
      "source": [
        "# Difference between mean and median:\n"
      ],
      "metadata": {
        "id": "Ync9p1wfwRUe"
      }
    },
    {
      "cell_type": "code",
      "source": [
        "data = np.array([1,2,3,4,500])\n",
        "data"
      ],
      "metadata": {
        "colab": {
          "base_uri": "https://localhost:8080/"
        },
        "id": "0OxecL1OwPSW",
        "outputId": "6ffada45-93cc-4e01-824a-b5f98e1c7522"
      },
      "execution_count": null,
      "outputs": [
        {
          "output_type": "execute_result",
          "data": {
            "text/plain": [
              "array([  1,   2,   3,   4, 500])"
            ]
          },
          "metadata": {},
          "execution_count": 7
        }
      ]
    },
    {
      "cell_type": "code",
      "source": [
        "np.mean(data)"
      ],
      "metadata": {
        "colab": {
          "base_uri": "https://localhost:8080/"
        },
        "id": "IstdVsL2wg93",
        "outputId": "1cbbfe43-3d45-4577-c3ef-72f77d41bab5"
      },
      "execution_count": null,
      "outputs": [
        {
          "output_type": "execute_result",
          "data": {
            "text/plain": [
              "102.0"
            ]
          },
          "metadata": {},
          "execution_count": 10
        }
      ]
    },
    {
      "cell_type": "code",
      "source": [
        "np.median(data)"
      ],
      "metadata": {
        "colab": {
          "base_uri": "https://localhost:8080/"
        },
        "id": "_X_N0mXhwiUX",
        "outputId": "17c1b9e4-4bed-4240-d029-1ba3d27c2ce1"
      },
      "execution_count": null,
      "outputs": [
        {
          "output_type": "execute_result",
          "data": {
            "text/plain": [
              "3.0"
            ]
          },
          "metadata": {},
          "execution_count": 9
        }
      ]
    },
    {
      "cell_type": "markdown",
      "source": [
        "* cinclusion:\n",
        "` mean is sensitive to outliers/extreme and median is insensitive to outliers because 500 is an outlier it shifted maen towards to extreme value; median is as it is`"
      ],
      "metadata": {
        "id": "5R1vqzqRwtPL"
      }
    },
    {
      "cell_type": "markdown",
      "source": [
        "* `mean ma each item use hunxa to calculate mean but median ma no. of item use hunxa teir vayera median is insensative to outliers.`"
      ],
      "metadata": {
        "id": "dOiAgzAXxOSy"
      }
    },
    {
      "cell_type": "code",
      "source": [
        "# MODE :\n",
        "data = np.array([2,6,7,2,3,2,2])\n",
        "data"
      ],
      "metadata": {
        "colab": {
          "base_uri": "https://localhost:8080/"
        },
        "id": "w68P-kF6wkx7",
        "outputId": "4f7c19c1-427d-452e-9157-63eb5f2e1095"
      },
      "execution_count": null,
      "outputs": [
        {
          "output_type": "execute_result",
          "data": {
            "text/plain": [
              "array([2, 6, 7, 2, 3, 2, 2])"
            ]
          },
          "metadata": {},
          "execution_count": 11
        }
      ]
    },
    {
      "cell_type": "code",
      "source": [
        "from scipy.stats import mode"
      ],
      "metadata": {
        "id": "5Q2Kg1HSxto0"
      },
      "execution_count": null,
      "outputs": []
    },
    {
      "cell_type": "code",
      "source": [
        "mode(data) # mode 2 ho and tesko value 4 ho because repeated item doesn't count other wise no of item / value would be 7"
      ],
      "metadata": {
        "colab": {
          "base_uri": "https://localhost:8080/"
        },
        "id": "CGhGHiOvxy1B",
        "outputId": "1785edb9-8929-4867-bb32-43f72085f068"
      },
      "execution_count": null,
      "outputs": [
        {
          "output_type": "execute_result",
          "data": {
            "text/plain": [
              "ModeResult(mode=2, count=4)"
            ]
          },
          "metadata": {},
          "execution_count": 13
        }
      ]
    },
    {
      "cell_type": "markdown",
      "source": [
        " Mean vs Median:\n",
        "\n",
        "\n",
        "Application : Mean is used to fill in missing data if data is normally distributed Median is used to fill in the missing data if the data has an outliers. Because mean is sensitive to outliers.\n",
        "\n",
        "` Algorithm that use mean and median: K Means algorithm and K medoid algorithm"
      ],
      "metadata": {
        "id": "fTRwE8nuyDIr"
      }
    },
    {
      "cell_type": "markdown",
      "source": [
        "# **Normal Distribution:**\n",
        " * Normal distribution has mean $\\mu$ and standard deviation $\\sigma$   (latics)\n",
        "\n"
      ],
      "metadata": {
        "id": "-v845V6Yy6ho"
      }
    },
    {
      "cell_type": "code",
      "source": [
        "np.random.seed(0)\n",
        "d1= np.random.normal(loc=5, scale=1, size=1500) # loc means mean, scale mean standard deviation"
      ],
      "metadata": {
        "id": "BS0AS_A0x0tc"
      },
      "execution_count": null,
      "outputs": []
    },
    {
      "cell_type": "code",
      "source": [
        "import seaborn as sns"
      ],
      "metadata": {
        "id": "dhakShnD0Dgm"
      },
      "execution_count": null,
      "outputs": []
    },
    {
      "cell_type": "code",
      "source": [
        "# histogram using seabron\n",
        "sns.histplot(d1)"
      ],
      "metadata": {
        "colab": {
          "base_uri": "https://localhost:8080/",
          "height": 447
        },
        "id": "BSBk8nAs0Fm_",
        "outputId": "f8918810-a6da-4e80-81b5-61e64994aecb"
      },
      "execution_count": null,
      "outputs": [
        {
          "output_type": "execute_result",
          "data": {
            "text/plain": [
              "<Axes: ylabel='Count'>"
            ]
          },
          "metadata": {},
          "execution_count": 19
        },
        {
          "output_type": "display_data",
          "data": {
            "text/plain": [
              "<Figure size 640x480 with 1 Axes>"
            ],
            "image/png": "[encoded data removed]"
          },
          "metadata": {}
        }
      ]
    },
    {
      "cell_type": "code",
      "source": [
        "# with kdeplot\n",
        "sns.histplot(d1, kde=True)"
      ],
      "metadata": {
        "colab": {
          "base_uri": "https://localhost:8080/",
          "height": 447
        },
        "id": "Ot5DC9v80Kx7",
        "outputId": "667d4b41-b303-4f3b-c510-67cd6452bc57"
      },
      "execution_count": null,
      "outputs": [
        {
          "output_type": "execute_result",
          "data": {
            "text/plain": [
              "<Axes: ylabel='Count'>"
            ]
          },
          "metadata": {},
          "execution_count": 20
        },
        {
          "output_type": "display_data",
          "data": {
            "text/plain": [
              "<Figure size 640x480 with 1 Axes>"
            ],
            "image/png": "[encoded data removed]"
          },
          "metadata": {}
        }
      ]
    },
    {
      "cell_type": "code",
      "source": [
        "# mean same std different rakda k hunxa:\n",
        "\n"
      ],
      "metadata": {
        "id": "oZ5OuSRL0Woq"
      },
      "execution_count": null,
      "outputs": []
    },
    {
      "cell_type": "code",
      "source": [
        "# making two distribution where mean same hunxa std . farak hunxa\n",
        "np.random.seed(0)\n",
        "d1=np.random.normal(loc=5, scale=1, size=1500)\n",
        "d2= np.random.normal(loc=5, scale=3, size=1500)"
      ],
      "metadata": {
        "id": "rcVjZITa1L_S"
      },
      "execution_count": null,
      "outputs": []
    },
    {
      "cell_type": "code",
      "source": [
        "# makgin kdeplot in one frame\n",
        "import matplotlib.pyplot as plt\n",
        "plt.figure(figsize = (5,3))\n",
        "sns.kdeplot(d1, fill=True, label='mean=5;std=1')\n",
        "sns.kdeplot(d2, fill=True, label='mean=5;std=3')\n",
        "plt.axvline(5, color='red')\n",
        "# plt.axhline(5, color='red')\n",
        "plt.title(r\"$\\mu$=5\")\n",
        "plt.legend()\n",
        "plt.show()"
      ],
      "metadata": {
        "colab": {
          "base_uri": "https://localhost:8080/",
          "height": 315
        },
        "id": "OThFBFWr1jtZ",
        "outputId": "ddcd2c3f-1ac0-48eb-94fa-3aee10da59f0"
      },
      "execution_count": null,
      "outputs": [
        {
          "output_type": "display_data",
          "data": {
            "text/plain": [
              "<Figure size 500x300 with 1 Axes>"
            ],
            "image/png": "[encoded data removed]"
          },
          "metadata": {}
        }
      ]
    },
    {
      "cell_type": "markdown",
      "source": [
        "* ` both distribution has same mean but std is different.`\n",
        "* `the distribution with small std is closed/tight (one with blue color)`\n",
        "* `the distribution with large std is wide (one with orange color)`\n",
        "* ` scatterness of data std le dekhauxa`\n",
        "* ` std ko suare lai variance vanxa`\n",
        "\n",
        "`dispersion control garxa std le`\n",
        "\n",
        "\n"
      ],
      "metadata": {
        "id": "4WSYxa5n38ng"
      }
    },
    {
      "cell_type": "markdown",
      "source": [
        "# **Dispersion:**\\\n",
        "It is the measure of how spread out our data is Types:\n",
        "* Range\n",
        "* standard deviation\n",
        "* variance\n",
        "* quartiles\n",
        "* skewness and kurtosis"
      ],
      "metadata": {
        "id": "osW0qJ6147Cm"
      }
    },
    {
      "cell_type": "code",
      "source": [
        "# deviation: means subtraction\n",
        "mean =5\n",
        "data_point = 8\n",
        "deviation=data_point-mean"
      ],
      "metadata": {
        "id": "uHrDEoA_1-Bo"
      },
      "execution_count": null,
      "outputs": []
    },
    {
      "cell_type": "code",
      "source": [
        "# with code\n",
        "absolute_deviation=np.abs(deviation)\n",
        "absolute_deviation"
      ],
      "metadata": {
        "colab": {
          "base_uri": "https://localhost:8080/"
        },
        "id": "mPlAW9eW5nQ3",
        "outputId": "b277db03-c030-43ef-b40d-54ad47698435"
      },
      "execution_count": null,
      "outputs": [
        {
          "output_type": "execute_result",
          "data": {
            "text/plain": [
              "3"
            ]
          },
          "metadata": {},
          "execution_count": 30
        }
      ]
    },
    {
      "cell_type": "code",
      "source": [
        "squared_deviation = np.sqrt(deviation)\n",
        "squared_deviation"
      ],
      "metadata": {
        "colab": {
          "base_uri": "https://localhost:8080/"
        },
        "id": "vSSTi1ZB51Kd",
        "outputId": "ecae92f7-7aeb-4719-8ffc-06373aff34b5"
      },
      "execution_count": null,
      "outputs": [
        {
          "output_type": "execute_result",
          "data": {
            "text/plain": [
              "1.7320508075688772"
            ]
          },
          "metadata": {},
          "execution_count": 31
        }
      ]
    },
    {
      "cell_type": "markdown",
      "source": [
        "<img src=\"https://d138zd1ktt9iqe.cloudfront.net/media/seo_landing_files/standard-deviation-formula-1626765976.png\">"
      ],
      "metadata": {
        "id": "LYqtRV3R6PSY"
      }
    },
    {
      "cell_type": "markdown",
      "source": [],
      "metadata": {
        "id": "ZXa7H6Bc8J2O"
      }
    },
    {
      "cell_type": "code",
      "source": [
        "# <!-- std sensitive outliere ho -->"
      ],
      "metadata": {
        "id": "UiKv1nj28Pkj"
      },
      "execution_count": null,
      "outputs": []
    },
    {
      "cell_type": "code",
      "source": [
        "data= np.array([3,4,5,6,200])\n",
        "Range = np.max(data)-np.min(data)\n",
        "Range"
      ],
      "metadata": {
        "colab": {
          "base_uri": "https://localhost:8080/"
        },
        "id": "04vxooOC8eus",
        "outputId": "b72a2f9f-b96d-4022-a8d1-ea057485798a"
      },
      "execution_count": null,
      "outputs": [
        {
          "output_type": "execute_result",
          "data": {
            "text/plain": [
              "197"
            ]
          },
          "metadata": {},
          "execution_count": 33
        }
      ]
    },
    {
      "cell_type": "code",
      "source": [
        "# Range is highly sensative to outliers.\n",
        "#  tara outlier detection ,a use hudaina kina?\n",
        "#  => mathi ko example if data 3 --- 200 sammai xa vane range 197 nai aauxa which is not a good measure of outlier"
      ],
      "metadata": {
        "id": "MC_W-fnL8vZc"
      },
      "execution_count": null,
      "outputs": []
    }
  ]
}