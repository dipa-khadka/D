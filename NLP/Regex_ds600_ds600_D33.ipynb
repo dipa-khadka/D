{
  "nbformat": 4,
  "nbformat_minor": 0,
  "metadata": {
    "colab": {
      "provenance": []
    },
    "kernelspec": {
      "name": "python3",
      "display_name": "Python 3"
    },
    "language_info": {
      "name": "python"
    }
  },
  "cells": [
    {
      "cell_type": "code",
      "execution_count": null,
      "metadata": {
        "id": "e6exdHDONHuH"
      },
      "outputs": [],
      "source": [
        "import re"
      ]
    },
    {
      "cell_type": "code",
      "source": [
        "pattern = \"^a...s$\"\n",
        "text = 'abbys'\n",
        "re.match(pattern, text)"
      ],
      "metadata": {
        "colab": {
          "base_uri": "https://localhost:8080/"
        },
        "id": "ZG3vajruZULI",
        "outputId": "b14b696e-6c1b-45b0-ad03-a1d48519c8ff"
      },
      "execution_count": null,
      "outputs": [
        {
          "output_type": "execute_result",
          "data": {
            "text/plain": [
              "<re.Match object; span=(0, 5), match='abbys'>"
            ]
          },
          "metadata": {},
          "execution_count": 2
        }
      ]
    },
    {
      "cell_type": "code",
      "source": [
        "pattern = \"^a...s$\"\n",
        "text = 'an abacs'\n",
        "re.match(pattern, text)"
      ],
      "metadata": {
        "id": "QdOVdNq7Zd69"
      },
      "execution_count": null,
      "outputs": []
    },
    {
      "cell_type": "code",
      "source": [
        "# what is the work of square bracket ?\n",
        "text = \"\"\"\n",
        "Here are the following email address if you want to connect :\n",
        " dipa.khadka@gmail.com\n",
        " dk5732@gamil.com\n",
        " ds.khadka7@gmail.com\n",
        "\n",
        " The last address is :\n",
        " 577d@gmail.com\n",
        "\"\"\""
      ],
      "metadata": {
        "id": "Wm-0yZ8cZlLh"
      },
      "execution_count": null,
      "outputs": []
    },
    {
      "cell_type": "code",
      "source": [
        "pattern = r'\\b[A-Za-z0-9._]+@gmail\\.com\\b'\n",
        "re.findall(pattern , text)"
      ],
      "metadata": {
        "colab": {
          "base_uri": "https://localhost:8080/"
        },
        "id": "S9RZlUAUdlKo",
        "outputId": "e9635dd6-2c73-499d-959b-fd871dbbab55"
      },
      "execution_count": null,
      "outputs": [
        {
          "output_type": "execute_result",
          "data": {
            "text/plain": [
              "['dipa.khadka@gmail.com', 'ds.khadka7@gmail.com', '577d@gmail.com']"
            ]
          },
          "metadata": {},
          "execution_count": 10
        }
      ]
    },
    {
      "cell_type": "code",
      "source": [
        "https://docs.google.com/document/d/1gOxnYg-r9f0G4FpvTTLjxfROfjslZzegzgej5kwd8bw/edit?usp=sharing"
      ],
      "metadata": {
        "id": "2Mn-JTlZeE60"
      },
      "execution_count": null,
      "outputs": []
    }
  ]
}