print("MSE:",mae)
print("MAE:",mae)
print("R2:",r2)