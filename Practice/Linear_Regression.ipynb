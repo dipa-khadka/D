{
 "cells": [
  {
   "cell_type": "markdown",
   "metadata": {},
   "source": [
    "# **Case Study**\n",
    "You are a case-study on a set of college students to understand i sutdents with high GGPA also get a high GRE score."
   ]
  },
  {
   "cell_type": "markdown",
   "metadata": {},
   "source": [
    "## Need of Regression Analysis :-\n",
    "Regression Analysis helps us to understand the relationship between two or more variables by creating a predictive model .\n",
    "\n",
    "         Y = f(x)\n",
    "        where, \n",
    "            Y => Dependent Variable (GRE)\n",
    "            x => Independent Variable (CGPA)"
   ]
  },
  {
   "cell_type": "markdown",
   "metadata": {},
   "source": [
    "* Linear Regression :-\n",
    "It is a predictive model used for finding the linear relationship between a dependent variable and one or more independent variables.\n",
    "   \n",
    "   Y = a + bx\n",
    " where, \n",
    "     Y => Depended Variable  is continuous."
   ]
  },
  {
   "cell_type": "code",
   "execution_count": null,
   "metadata": {},
   "outputs": [],
   "source": []
  }
 ],
 "metadata": {
  "language_info": {
   "name": "python"
  }
 },
 "nbformat": 4,
 "nbformat_minor": 2
}
