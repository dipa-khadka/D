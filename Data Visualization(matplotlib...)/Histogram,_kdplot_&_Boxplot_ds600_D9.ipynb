{
 "cells": [
  {
   "cell_type": "markdown",
   "metadata": {
    "id": "q5bgGsxSWQ4C"
   },
   "source": [
    "# Histogram, Kdeplot and Boxplot"
   ]
  },
  {
   "cell_type": "code",
   "execution_count": 1,
   "metadata": {
    "id": "y-YJKL_XWDk-"
   },
   "outputs": [],
   "source": [
    "import seaborn as sns\n"
   ]
  },
  {
   "cell_type": "code",
   "execution_count": 2,
   "metadata": {
    "colab": {
     "base_uri": "https://localhost:8080/",
     "height": 423
    },
    "id": "SmB0CN7wWlCj",
    "outputId": "faa9ed0b-1e8f-4fbe-cb53-cc285b18278e"
   },
   "outputs": [
    {
     "data": {
      "text/html": [
       "<div>\n",
       "<style scoped>\n",
       "    .dataframe tbody tr th:only-of-type {\n",
       "        vertical-align: middle;\n",
       "    }\n",
       "\n",
       "    .dataframe tbody tr th {\n",
       "        vertical-align: top;\n",
       "    }\n",
       "\n",
       "    .dataframe thead th {\n",
       "        text-align: right;\n",
       "    }\n",
       "</style>\n",
       "<table border=\"1\" class=\"dataframe\">\n",
       "  <thead>\n",
       "    <tr style=\"text-align: right;\">\n",
       "      <th></th>\n",
       "      <th>sepal_length</th>\n",
       "      <th>sepal_width</th>\n",
       "      <th>petal_length</th>\n",
       "      <th>petal_width</th>\n",
       "      <th>species</th>\n",
       "    </tr>\n",
       "  </thead>\n",
       "  <tbody>\n",
       "    <tr>\n",
       "      <th>0</th>\n",
       "      <td>5.1</td>\n",
       "      <td>3.5</td>\n",
       "      <td>1.4</td>\n",
       "      <td>0.2</td>\n",
       "      <td>setosa</td>\n",
       "    </tr>\n",
       "    <tr>\n",
       "      <th>1</th>\n",
       "      <td>4.9</td>\n",
       "      <td>3.0</td>\n",
       "      <td>1.4</td>\n",
       "      <td>0.2</td>\n",
       "      <td>setosa</td>\n",
       "    </tr>\n",
       "    <tr>\n",
       "      <th>2</th>\n",
       "      <td>4.7</td>\n",
       "      <td>3.2</td>\n",
       "      <td>1.3</td>\n",
       "      <td>0.2</td>\n",
       "      <td>setosa</td>\n",
       "    </tr>\n",
       "    <tr>\n",
       "      <th>3</th>\n",
       "      <td>4.6</td>\n",
       "      <td>3.1</td>\n",
       "      <td>1.5</td>\n",
       "      <td>0.2</td>\n",
       "      <td>setosa</td>\n",
       "    </tr>\n",
       "    <tr>\n",
       "      <th>4</th>\n",
       "      <td>5.0</td>\n",
       "      <td>3.6</td>\n",
       "      <td>1.4</td>\n",
       "      <td>0.2</td>\n",
       "      <td>setosa</td>\n",
       "    </tr>\n",
       "    <tr>\n",
       "      <th>...</th>\n",
       "      <td>...</td>\n",
       "      <td>...</td>\n",
       "      <td>...</td>\n",
       "      <td>...</td>\n",
       "      <td>...</td>\n",
       "    </tr>\n",
       "    <tr>\n",
       "      <th>145</th>\n",
       "      <td>6.7</td>\n",
       "      <td>3.0</td>\n",
       "      <td>5.2</td>\n",
       "      <td>2.3</td>\n",
       "      <td>virginica</td>\n",
       "    </tr>\n",
       "    <tr>\n",
       "      <th>146</th>\n",
       "      <td>6.3</td>\n",
       "      <td>2.5</td>\n",
       "      <td>5.0</td>\n",
       "      <td>1.9</td>\n",
       "      <td>virginica</td>\n",
       "    </tr>\n",
       "    <tr>\n",
       "      <th>147</th>\n",
       "      <td>6.5</td>\n",
       "      <td>3.0</td>\n",
       "      <td>5.2</td>\n",
       "      <td>2.0</td>\n",
       "      <td>virginica</td>\n",
       "    </tr>\n",
       "    <tr>\n",
       "      <th>148</th>\n",
       "      <td>6.2</td>\n",
       "      <td>3.4</td>\n",
       "      <td>5.4</td>\n",
       "      <td>2.3</td>\n",
       "      <td>virginica</td>\n",
       "    </tr>\n",
       "    <tr>\n",
       "      <th>149</th>\n",
       "      <td>5.9</td>\n",
       "      <td>3.0</td>\n",
       "      <td>5.1</td>\n",
       "      <td>1.8</td>\n",
       "      <td>virginica</td>\n",
       "    </tr>\n",
       "  </tbody>\n",
       "</table>\n",
       "<p>150 rows × 5 columns</p>\n",
       "</div>"
      ],
      "text/plain": [
       "     sepal_length  sepal_width  petal_length  petal_width    species\n",
       "0             5.1          3.5           1.4          0.2     setosa\n",
       "1             4.9          3.0           1.4          0.2     setosa\n",
       "2             4.7          3.2           1.3          0.2     setosa\n",
       "3             4.6          3.1           1.5          0.2     setosa\n",
       "4             5.0          3.6           1.4          0.2     setosa\n",
       "..            ...          ...           ...          ...        ...\n",
       "145           6.7          3.0           5.2          2.3  virginica\n",
       "146           6.3          2.5           5.0          1.9  virginica\n",
       "147           6.5          3.0           5.2          2.0  virginica\n",
       "148           6.2          3.4           5.4          2.3  virginica\n",
       "149           5.9          3.0           5.1          1.8  virginica\n",
       "\n",
       "[150 rows x 5 columns]"
      ]
     },
     "execution_count": 2,
     "metadata": {},
     "output_type": "execute_result"
    }
   ],
   "source": [
    "df = sns.load_dataset('iris')\n",
    "df"
   ]
  },
  {
   "cell_type": "code",
   "execution_count": 3,
   "metadata": {
    "id": "uW6FN_KlWtMg"
   },
   "outputs": [],
   "source": [
    "import matplotlib.pyplot as plt\n"
   ]
  },
  {
   "cell_type": "code",
   "execution_count": 4,
   "metadata": {
    "colab": {
     "base_uri": "https://localhost:8080/",
     "height": 482
    },
    "id": "xk1R9QOCb3S9",
    "outputId": "830b33f0-dcf3-4064-af71-19968eafffce"
   },
   "outputs": [
    {
     "data": {
      "text/plain": [
       "(array([ 9., 23., 14., 27., 16., 26., 18.,  6.,  5.,  6.]),\n",
       " array([4.3 , 4.66, 5.02, 5.38, 5.74, 6.1 , 6.46, 6.82, 7.18, 7.54, 7.9 ]),\n",
       " <BarContainer object of 10 artists>)"
      ]
     },
     "execution_count": 4,
     "metadata": {},
     "output_type": "execute_result"
    },
    {
     "data": {
      "image/png": "[encoded data removed]",
      "text/plain": [
       "<Figure size 640x480 with 1 Axes>"
      ]
     },
     "metadata": {},
     "output_type": "display_data"
    }
   ],
   "source": [
    "plt.hist(df['sepal_length']) # histogram ploting"
   ]
  },
  {
   "cell_type": "code",
   "execution_count": 5,
   "metadata": {
    "colab": {
     "base_uri": "https://localhost:8080/",
     "height": 482
    },
    "id": "DTm_hkGPb7Co",
    "outputId": "37b482dd-3801-4bd9-e649-4dcd4af18fbb"
   },
   "outputs": [
    {
     "data": {
      "text/plain": [
       "(array([32., 41., 42., 24., 11.]),\n",
       " array([4.3 , 5.02, 5.74, 6.46, 7.18, 7.9 ]),\n",
       " <BarContainer object of 5 artists>)"
      ]
     },
     "execution_count": 5,
     "metadata": {},
     "output_type": "execute_result"
    },
    {
     "data": {
      "image/png": "[encoded data removed]",
      "text/plain": [
       "<Figure size 640x480 with 1 Axes>"
      ]
     },
     "metadata": {},
     "output_type": "display_data"
    }
   ],
   "source": [
    "# we can control bin size means we can controm no of bins in histogram\n",
    "plt.hist(df['sepal_length'] ,bins=5)"
   ]
  },
  {
   "cell_type": "code",
   "execution_count": 6,
   "metadata": {
    "colab": {
     "base_uri": "https://localhost:8080/",
     "height": 467
    },
    "id": "mVZ-mY5XcVc8",
    "outputId": "c79af5ce-7ec6-49f6-d137-1fbccd2e2695"
   },
   "outputs": [
    {
     "data": {
      "text/plain": [
       "<Axes: xlabel='sepal_length', ylabel='Count'>"
      ]
     },
     "execution_count": 6,
     "metadata": {},
     "output_type": "execute_result"
    },
    {
     "data": {
      "image/png": "[encoded data removed]",
      "text/plain": [
       "<Figure size 640x480 with 1 Axes>"
      ]
     },
     "metadata": {},
     "output_type": "display_data"
    }
   ],
   "source": [
    "# using seaborn\n",
    "sns.histplot(df['sepal_length'])"
   ]
  },
  {
   "cell_type": "code",
   "execution_count": 7,
   "metadata": {
    "colab": {
     "base_uri": "https://localhost:8080/",
     "height": 467
    },
    "id": "CHfOn7HZcoyv",
    "outputId": "0c535cf9-cc84-495d-e0af-9a86622dfc78"
   },
   "outputs": [
    {
     "data": {
      "text/plain": [
       "<Axes: xlabel='sepal_length', ylabel='Count'>"
      ]
     },
     "execution_count": 7,
     "metadata": {},
     "output_type": "execute_result"
    },
    {
     "data": {
      "image/png": "[encoded data removed]",
      "text/plain": [
       "<Figure size 640x480 with 1 Axes>"
      ]
     },
     "metadata": {},
     "output_type": "display_data"
    }
   ],
   "source": [
    "# histogram with kdeplot\n",
    "sns.histplot(df['sepal_length'] , kde=True) #histogram lai smooth garna ko lagi kde use garne / overal shape dekahauxa"
   ]
  },
  {
   "cell_type": "code",
   "execution_count": 8,
   "metadata": {
    "colab": {
     "base_uri": "https://localhost:8080/",
     "height": 467
    },
    "id": "JrX8FU6Sc-xd",
    "outputId": "07fb4878-1ccd-45af-acc0-5908eccda2c3"
   },
   "outputs": [
    {
     "data": {
      "text/plain": [
       "<Axes: xlabel='sepal_length', ylabel='Density'>"
      ]
     },
     "execution_count": 8,
     "metadata": {},
     "output_type": "execute_result"
    },
    {
     "data": {
      "image/png": "[encoded data removed]",
      "text/plain": [
       "<Figure size 640x480 with 1 Axes>"
      ]
     },
     "metadata": {},
     "output_type": "display_data"
    }
   ],
   "source": [
    "# kdeplot without histogram\n",
    "sns.kdeplot(df['sepal_length'])"
   ]
  },
  {
   "cell_type": "markdown",
   "metadata": {
    "id": "dVbie2oMdm1w"
   },
   "source": [
    "# Boxplot"
   ]
  },
  {
   "cell_type": "code",
   "execution_count": 9,
   "metadata": {
    "colab": {
     "base_uri": "https://localhost:8080/",
     "height": 572
    },
    "id": "YYsgo6jIdcN9",
    "outputId": "dd807ad0-a581-45fb-e284-608ae086d2b8"
   },
   "outputs": [
    {
     "data": {
      "text/plain": [
       "{'whiskers': [<matplotlib.lines.Line2D at 0x27fbbc8dd90>,\n",
       "  <matplotlib.lines.Line2D at 0x27fbde903e0>],\n",
       " 'caps': [<matplotlib.lines.Line2D at 0x27fbde906e0>,\n",
       "  <matplotlib.lines.Line2D at 0x27fbde90980>],\n",
       " 'boxes': [<matplotlib.lines.Line2D at 0x27fbde900b0>],\n",
       " 'medians': [<matplotlib.lines.Line2D at 0x27fbde90c20>],\n",
       " 'fliers': [<matplotlib.lines.Line2D at 0x27fbde90f20>],\n",
       " 'means': []}"
      ]
     },
     "execution_count": 9,
     "metadata": {},
     "output_type": "execute_result"
    },
    {
     "data": {
      "image/png": "[encoded data removed]",
      "text/plain": [
       "<Figure size 640x480 with 1 Axes>"
      ]
     },
     "metadata": {},
     "output_type": "display_data"
    }
   ],
   "source": [
    "plt.boxplot(df['sepal_width'])"
   ]
  },
  {
   "cell_type": "code",
   "execution_count": 10,
   "metadata": {
    "colab": {
     "base_uri": "https://localhost:8080/",
     "height": 433
    },
    "id": "-CdP-bcyd5xV",
    "outputId": "42d0acea-f4a9-43d7-e56d-d75b2b334efa"
   },
   "outputs": [
    {
     "data": {
      "image/png": "[encoded data removed]",
      "text/plain": [
       "<Figure size 640x480 with 1 Axes>"
      ]
     },
     "metadata": {},
     "output_type": "display_data"
    }
   ],
   "source": [
    "plt.boxplot(df['sepal_width'])\n",
    "plt.show()"
   ]
  },
  {
   "cell_type": "code",
   "execution_count": 11,
   "metadata": {
    "colab": {
     "base_uri": "https://localhost:8080/",
     "height": 450
    },
    "id": "-VZtTTcNeBr3",
    "outputId": "22fff46c-8084-476d-b581-752ea3f3b714"
   },
   "outputs": [
    {
     "data": {
      "text/plain": [
       "<Axes: ylabel='sepal_width'>"
      ]
     },
     "execution_count": 11,
     "metadata": {},
     "output_type": "execute_result"
    },
    {
     "data": {
      "image/png": "[encoded data removed]",
      "text/plain": [
       "<Figure size 640x480 with 1 Axes>"
      ]
     },
     "metadata": {},
     "output_type": "display_data"
    }
   ],
   "source": [
    "#Boxplot using seaborn\n",
    "sns.boxplot(df['sepal_width'])"
   ]
  },
  {
   "cell_type": "code",
   "execution_count": 12,
   "metadata": {
    "colab": {
     "base_uri": "https://localhost:8080/",
     "height": 447
    },
    "id": "X1kdKqGZfzz3",
    "outputId": "de367098-cfea-4cf1-fdbe-af9df5719f5c"
   },
   "outputs": [
    {
     "data": {
      "text/plain": [
       "<Axes: >"
      ]
     },
     "execution_count": 12,
     "metadata": {},
     "output_type": "execute_result"
    },
    {
     "data": {
      "image/png": "[encoded data removed]",
      "text/plain": [
       "<Figure size 640x480 with 1 Axes>"
      ]
     },
     "metadata": {},
     "output_type": "display_data"
    }
   ],
   "source": [
    "sns.boxplot(df)"
   ]
  },
  {
   "cell_type": "code",
   "execution_count": 13,
   "metadata": {
    "id": "xPbReuKdf8Fp"
   },
   "outputs": [],
   "source": [
    "# sepal_weidth ma marta outlier xa aruma xaina\n",
    "# data ko distrubution matra dekhako xa"
   ]
  },
  {
   "cell_type": "code",
   "execution_count": 14,
   "metadata": {
    "colab": {
     "base_uri": "https://localhost:8080/",
     "height": 447
    },
    "id": "h5MtNIt1gVXQ",
    "outputId": "1c752317-0b22-4041-fce3-e308fcfb1966"
   },
   "outputs": [
    {
     "data": {
      "text/plain": [
       "<Axes: >"
      ]
     },
     "execution_count": 14,
     "metadata": {},
     "output_type": "execute_result"
    },
    {
     "data": {
      "image/png": "[encoded data removed]",
      "text/plain": [
       "<Figure size 640x480 with 1 Axes>"
      ]
     },
     "metadata": {},
     "output_type": "display_data"
    }
   ],
   "source": [
    "# data point dekhaune pani\n",
    "sns.boxplot(df)\n",
    "sns.stripplot(df)"
   ]
  },
  {
   "cell_type": "code",
   "execution_count": 15,
   "metadata": {
    "id": "m7KHXc9sgf65"
   },
   "outputs": [],
   "source": [
    "# datapoint using plotly it is optional\n",
    "import plotly.express as px"
   ]
  },
  {
   "cell_type": "code",
   "execution_count": 16,
   "metadata": {
    "colab": {
     "base_uri": "https://localhost:8080/",
     "height": 542
    },
    "id": "NlreaH2XgwfU",
    "outputId": "c5232522-aff9-4e6f-c48e-6fe846ab249f"
   },
   "outputs": [
    {
     "data": {
      "application/vnd.plotly.v1+json": {
       "config": {
        "plotlyServerURL": "https://plot.ly"
       },
       "data": [
        {
         "alignmentgroup": "True",
         "hovertemplate": "variable=%{x}<br>value=%{y}<extra></extra>",
         "legendgroup": "",
         "marker": {
          "color": "#636efa"
         },
         "name": "",
         "notched": false,
         "offsetgroup": "",
         "orientation": "v",
         "showlegend": false,
         "type": "box",
         "x": [
          "sepal_length",
          "sepal_length",
          "sepal_length",
          "sepal_length",
          "sepal_length",
          "sepal_length",
          "sepal_length",
          "sepal_length",
          "sepal_length",
          "sepal_length",
          "sepal_length",
          "sepal_length",
          "sepal_length",
          "sepal_length",
          "sepal_length",
          "sepal_length",
          "sepal_length",
          "sepal_length",
          "sepal_length",
          "sepal_length",
          "sepal_length",
          "sepal_length",
          "sepal_length",
          "sepal_length",
          "sepal_length",
          "sepal_length",
          "sepal_length",
          "sepal_length",
          "sepal_length",
          "sepal_length",
          "sepal_length",
          "sepal_length",
          "sepal_length",
          "sepal_length",
          "sepal_length",
          "sepal_length",
          "sepal_length",
          "sepal_length",
          "sepal_length",
          "sepal_length",
          "sepal_length",
          "sepal_length",
          "sepal_length",
          "sepal_length",
          "sepal_length",
          "sepal_length",
          "sepal_length",
          "sepal_length",
          "sepal_length",
          "sepal_length",
          "sepal_length",
          "sepal_length",
          "sepal_length",
          "sepal_length",
          "sepal_length",
          "sepal_length",
          "sepal_length",
          "sepal_length",
          "sepal_length",
          "sepal_length",
          "sepal_length",
          "sepal_length",
          "sepal_length",
          "sepal_length",
          "sepal_length",
          "sepal_length",
          "sepal_length",
          "sepal_length",
          "sepal_length",
          "sepal_length",
          "sepal_length",
          "sepal_length",
          "sepal_length",
          "sepal_length",
          "sepal_length",
          "sepal_length",
          "sepal_length",
          "sepal_length",
          "sepal_length",
          "sepal_length",
          "sepal_length",
          "sepal_length",
          "sepal_length",
          "sepal_length",
          "sepal_length",
          "sepal_length",
          "sepal_length",
          "sepal_length",
          "sepal_length",
          "sepal_length",
          "sepal_length",
          "sepal_length",
          "sepal_length",
          "sepal_length",
          "sepal_length",
          "sepal_length",
          "sepal_length",
          "sepal_length",
          "sepal_length",
          "sepal_length",
          "sepal_length",
          "sepal_length",
          "sepal_length",
          "sepal_length",
          "sepal_length",
          "sepal_length",
          "sepal_length",
          "sepal_length",
          "sepal_length",
          "sepal_length",
          "sepal_length",
          "sepal_length",
          "sepal_length",
          "sepal_length",
          "sepal_length",
          "sepal_length",
          "sepal_length",
          "sepal_length",
          "sepal_length",
          "sepal_length",
          "sepal_length",
          "sepal_length",
          "sepal_length",
          "sepal_length",
          "sepal_length",
          "sepal_length",
          "sepal_length",
          "sepal_length",
          "sepal_length",
          "sepal_length",
          "sepal_length",
          "sepal_length",
          "sepal_length",
          "sepal_length",
          "sepal_length",
          "sepal_length",
          "sepal_length",
          "sepal_length",
          "sepal_length",
          "sepal_length",
          "sepal_length",
          "sepal_length",
          "sepal_length",
          "sepal_length",
          "sepal_length",
          "sepal_length",
          "sepal_length",
          "sepal_length",
          "sepal_length",
          "sepal_length",
          "sepal_width",
          "sepal_width",
          "sepal_width",
          "sepal_width",
          "sepal_width",
          "sepal_width",
          "sepal_width",
          "sepal_width",
          "sepal_width",
          "sepal_width",
          "sepal_width",
          "sepal_width",
          "sepal_width",
          "sepal_width",
          "sepal_width",
          "sepal_width",
          "sepal_width",
          "sepal_width",
          "sepal_width",
          "sepal_width",
          "sepal_width",
          "sepal_width",
          "sepal_width",
          "sepal_width",
          "sepal_width",
          "sepal_width",
          "sepal_width",
          "sepal_width",
          "sepal_width",
          "sepal_width",
          "sepal_width",
          "sepal_width",
          "sepal_width",
          "sepal_width",
          "sepal_width",
          "sepal_width",
          "sepal_width",
          "sepal_width",
          "sepal_width",
          "sepal_width",
          "sepal_width",
          "sepal_width",
          "sepal_width",
          "sepal_width",
          "sepal_width",
          "sepal_width",
          "sepal_width",
          "sepal_width",
          "sepal_width",
          "sepal_width",
          "sepal_width",
          "sepal_width",
          "sepal_width",
          "sepal_width",
          "sepal_width",
          "sepal_width",
          "sepal_width",
          "sepal_width",
          "sepal_width",
          "sepal_width",
          "sepal_width",
          "sepal_width",
          "sepal_width",
          "sepal_width",
          "sepal_width",
          "sepal_width",
          "sepal_width",
          "sepal_width",
          "sepal_width",
          "sepal_width",
          "sepal_width",
          "sepal_width",
          "sepal_width",
          "sepal_width",
          "sepal_width",
          "sepal_width",
          "sepal_width",
          "sepal_width",
          "sepal_width",
          "sepal_width",
          "sepal_width",
          "sepal_width",
          "sepal_width",
          "sepal_width",
          "sepal_width",
          "sepal_width",
          "sepal_width",
          "sepal_width",
          "sepal_width",
          "sepal_width",
          "sepal_width",
          "sepal_width",
          "sepal_width",
          "sepal_width",
          "sepal_width",
          "sepal_width",
          "sepal_width",
          "sepal_width",
          "sepal_width",
          "sepal_width",
          "sepal_width",
          "sepal_width",
          "sepal_width",
          "sepal_width",
          "sepal_width",
          "sepal_width",
          "sepal_width",
          "sepal_width",
          "sepal_width",
          "sepal_width",
          "sepal_width",
          "sepal_width",
          "sepal_width",
          "sepal_width",
          "sepal_width",
          "sepal_width",
          "sepal_width",
          "sepal_width",
          "sepal_width",
          "sepal_width",
          "sepal_width",
          "sepal_width",
          "sepal_width",
          "sepal_width",
          "sepal_width",
          "sepal_width",
          "sepal_width",
          "sepal_width",
          "sepal_width",
          "sepal_width",
          "sepal_width",
          "sepal_width",
          "sepal_width",
          "sepal_width",
          "sepal_width",
          "sepal_width",
          "sepal_width",
          "sepal_width",
          "sepal_width",
          "sepal_width",
          "sepal_width",
          "sepal_width",
          "sepal_width",
          "sepal_width",
          "sepal_width",
          "sepal_width",
          "sepal_width",
          "sepal_width",
          "sepal_width",
          "sepal_width",
          "petal_length",
          "petal_length",
          "petal_length",
          "petal_length",
          "petal_length",
          "petal_length",
          "petal_length",
          "petal_length",
          "petal_length",
          "petal_length",
          "petal_length",
          "petal_length",
          "petal_length",
          "petal_length",
          "petal_length",
          "petal_length",
          "petal_length",
          "petal_length",
          "petal_length",
          "petal_length",
          "petal_length",
          "petal_length",
          "petal_length",
          "petal_length",
          "petal_length",
          "petal_length",
          "petal_length",
          "petal_length",
          "petal_length",
          "petal_length",
          "petal_length",
          "petal_length",
          "petal_length",
          "petal_length",
          "petal_length",
          "petal_length",
          "petal_length",
          "petal_length",
          "petal_length",
          "petal_length",
          "petal_length",
          "petal_length",
          "petal_length",
          "petal_length",
          "petal_length",
          "petal_length",
          "petal_length",
          "petal_length",
          "petal_length",
          "petal_length",
          "petal_length",
          "petal_length",
          "petal_length",
          "petal_length",
          "petal_length",
          "petal_length",
          "petal_length",
          "petal_length",
          "petal_length",
          "petal_length",
          "petal_length",
          "petal_length",
          "petal_length",
          "petal_length",
          "petal_length",
          "petal_length",
          "petal_length",
          "petal_length",
          "petal_length",
          "petal_length",
          "petal_length",
          "petal_length",
          "petal_length",
          "petal_length",
          "petal_length",
          "petal_length",
          "petal_length",
          "petal_length",
          "petal_length",
          "petal_length",
          "petal_length",
          "petal_length",
          "petal_length",
          "petal_length",
          "petal_length",
          "petal_length",
          "petal_length",
          "petal_length",
          "petal_length",
          "petal_length",
          "petal_length",
          "petal_length",
          "petal_length",
          "petal_length",
          "petal_length",
          "petal_length",
          "petal_length",
          "petal_length",
          "petal_length",
          "petal_length",
          "petal_length",
          "petal_length",
          "petal_length",
          "petal_length",
          "petal_length",
          "petal_length",
          "petal_length",
          "petal_length",
          "petal_length",
          "petal_length",
          "petal_length",
          "petal_length",
          "petal_length",
          "petal_length",
          "petal_length",
          "petal_length",
          "petal_length",
          "petal_length",
          "petal_length",
          "petal_length",
          "petal_length",
          "petal_length",
          "petal_length",
          "petal_length",
          "petal_length",
          "petal_length",
          "petal_length",
          "petal_length",
          "petal_length",
          "petal_length",
          "petal_length",
          "petal_length",
          "petal_length",
          "petal_length",
          "petal_length",
          "petal_length",
          "petal_length",
          "petal_length",
          "petal_length",
          "petal_length",
          "petal_length",
          "petal_length",
          "petal_length",
          "petal_length",
          "petal_length",
          "petal_length",
          "petal_length",
          "petal_length",
          "petal_length",
          "petal_length",
          "petal_width",
          "petal_width",
          "petal_width",
          "petal_width",
          "petal_width",
          "petal_width",
          "petal_width",
          "petal_width",
          "petal_width",
          "petal_width",
          "petal_width",
          "petal_width",
          "petal_width",
          "petal_width",
          "petal_width",
          "petal_width",
          "petal_width",
          "petal_width",
          "petal_width",
          "petal_width",
          "petal_width",
          "petal_width",
          "petal_width",
          "petal_width",
          "petal_width",
          "petal_width",
          "petal_width",
          "petal_width",
          "petal_width",
          "petal_width",
          "petal_width",
          "petal_width",
          "petal_width",
          "petal_width",
          "petal_width",
          "petal_width",
          "petal_width",
          "petal_width",
          "petal_width",
          "petal_width",
          "petal_width",
          "petal_width",
          "petal_width",
          "petal_width",
          "petal_width",
          "petal_width",
          "petal_width",
          "petal_width",
          "petal_width",
          "petal_width",
          "petal_width",
          "petal_width",
          "petal_width",
          "petal_width",
          "petal_width",
          "petal_width",
          "petal_width",
          "petal_width",
          "petal_width",
          "petal_width",
          "petal_width",
          "petal_width",
          "petal_width",
          "petal_width",
          "petal_width",
          "petal_width",
          "petal_width",
          "petal_width",
          "petal_width",
          "petal_width",
          "petal_width",
          "petal_width",
          "petal_width",
          "petal_width",
          "petal_width",
          "petal_width",
          "petal_width",
          "petal_width",
          "petal_width",
          "petal_width",
          "petal_width",
          "petal_width",
          "petal_width",
          "petal_width",
          "petal_width",
          "petal_width",
          "petal_width",
          "petal_width",
          "petal_width",
          "petal_width",
          "petal_width",
          "petal_width",
          "petal_width",
          "petal_width",
          "petal_width",
          "petal_width",
          "petal_width",
          "petal_width",
          "petal_width",
          "petal_width",
          "petal_width",
          "petal_width",
          "petal_width",
          "petal_width",
          "petal_width",
          "petal_width",
          "petal_width",
          "petal_width",
          "petal_width",
          "petal_width",
          "petal_width",
          "petal_width",
          "petal_width",
          "petal_width",
          "petal_width",
          "petal_width",
          "petal_width",
          "petal_width",
          "petal_width",
          "petal_width",
          "petal_width",
          "petal_width",
          "petal_width",
          "petal_width",
          "petal_width",
          "petal_width",
          "petal_width",
          "petal_width",
          "petal_width",
          "petal_width",
          "petal_width",
          "petal_width",
          "petal_width",
          "petal_width",
          "petal_width",
          "petal_width",
          "petal_width",
          "petal_width",
          "petal_width",
          "petal_width",
          "petal_width",
          "petal_width",
          "petal_width",
          "petal_width",
          "petal_width",
          "petal_width",
          "petal_width",
          "petal_width",
          "petal_width",
          "petal_width"
         ],
         "x0": " ",
         "xaxis": "x",
         "y": [
          5.1,
          4.9,
          4.7,
          4.6,
          5,
          5.4,
          4.6,
          5,
          4.4,
          4.9,
          5.4,
          4.8,
          4.8,
          4.3,
          5.8,
          5.7,
          5.4,
          5.1,
          5.7,
          5.1,
          5.4,
          5.1,
          4.6,
          5.1,
          4.8,
          5,
          5,
          5.2,
          5.2,
          4.7,
          4.8,
          5.4,
          5.2,
          5.5,
          4.9,
          5,
          5.5,
          4.9,
          4.4,
          5.1,
          5,
          4.5,
          4.4,
          5,
          5.1,
          4.8,
          5.1,
          4.6,
          5.3,
          5,
          7,
          6.4,
          6.9,
          5.5,
          6.5,
          5.7,
          6.3,
          4.9,
          6.6,
          5.2,
          5,
          5.9,
          6,
          6.1,
          5.6,
          6.7,
          5.6,
          5.8,
          6.2,
          5.6,
          5.9,
          6.1,
          6.3,
          6.1,
          6.4,
          6.6,
          6.8,
          6.7,
          6,
          5.7,
          5.5,
          5.5,
          5.8,
          6,
          5.4,
          6,
          6.7,
          6.3,
          5.6,
          5.5,
          5.5,
          6.1,
          5.8,
          5,
          5.6,
          5.7,
          5.7,
          6.2,
          5.1,
          5.7,
          6.3,
          5.8,
          7.1,
          6.3,
          6.5,
          7.6,
          4.9,
          7.3,
          6.7,
          7.2,
          6.5,
          6.4,
          6.8,
          5.7,
          5.8,
          6.4,
          6.5,
          7.7,
          7.7,
          6,
          6.9,
          5.6,
          7.7,
          6.3,
          6.7,
          7.2,
          6.2,
          6.1,
          6.4,
          7.2,
          7.4,
          7.9,
          6.4,
          6.3,
          6.1,
          7.7,
          6.3,
          6.4,
          6,
          6.9,
          6.7,
          6.9,
          5.8,
          6.8,
          6.7,
          6.7,
          6.3,
          6.5,
          6.2,
          5.9,
          3.5,
          3,
          3.2,
          3.1,
          3.6,
          3.9,
          3.4,
          3.4,
          2.9,
          3.1,
          3.7,
          3.4,
          3,
          3,
          4,
          4.4,
          3.9,
          3.5,
          3.8,
          3.8,
          3.4,
          3.7,
          3.6,
          3.3,
          3.4,
          3,
          3.4,
          3.5,
          3.4,
          3.2,
          3.1,
          3.4,
          4.1,
          4.2,
          3.1,
          3.2,
          3.5,
          3.6,
          3,
          3.4,
          3.5,
          2.3,
          3.2,
          3.5,
          3.8,
          3,
          3.8,
          3.2,
          3.7,
          3.3,
          3.2,
          3.2,
          3.1,
          2.3,
          2.8,
          2.8,
          3.3,
          2.4,
          2.9,
          2.7,
          2,
          3,
          2.2,
          2.9,
          2.9,
          3.1,
          3,
          2.7,
          2.2,
          2.5,
          3.2,
          2.8,
          2.5,
          2.8,
          2.9,
          3,
          2.8,
          3,
          2.9,
          2.6,
          2.4,
          2.4,
          2.7,
          2.7,
          3,
          3.4,
          3.1,
          2.3,
          3,
          2.5,
          2.6,
          3,
          2.6,
          2.3,
          2.7,
          3,
          2.9,
          2.9,
          2.5,
          2.8,
          3.3,
          2.7,
          3,
          2.9,
          3,
          3,
          2.5,
          2.9,
          2.5,
          3.6,
          3.2,
          2.7,
          3,
          2.5,
          2.8,
          3.2,
          3,
          3.8,
          2.6,
          2.2,
          3.2,
          2.8,
          2.8,
          2.7,
          3.3,
          3.2,
          2.8,
          3,
          2.8,
          3,
          2.8,
          3.8,
          2.8,
          2.8,
          2.6,
          3,
          3.4,
          3.1,
          3,
          3.1,
          3.1,
          3.1,
          2.7,
          3.2,
          3.3,
          3,
          2.5,
          3,
          3.4,
          3,
          1.4,
          1.4,
          1.3,
          1.5,
          1.4,
          1.7,
          1.4,
          1.5,
          1.4,
          1.5,
          1.5,
          1.6,
          1.4,
          1.1,
          1.2,
          1.5,
          1.3,
          1.4,
          1.7,
          1.5,
          1.7,
          1.5,
          1,
          1.7,
          1.9,
          1.6,
          1.6,
          1.5,
          1.4,
          1.6,
          1.6,
          1.5,
          1.5,
          1.4,
          1.5,
          1.2,
          1.3,
          1.4,
          1.3,
          1.5,
          1.3,
          1.3,
          1.3,
          1.6,
          1.9,
          1.4,
          1.6,
          1.4,
          1.5,
          1.4,
          4.7,
          4.5,
          4.9,
          4,
          4.6,
          4.5,
          4.7,
          3.3,
          4.6,
          3.9,
          3.5,
          4.2,
          4,
          4.7,
          3.6,
          4.4,
          4.5,
          4.1,
          4.5,
          3.9,
          4.8,
          4,
          4.9,
          4.7,
          4.3,
          4.4,
          4.8,
          5,
          4.5,
          3.5,
          3.8,
          3.7,
          3.9,
          5.1,
          4.5,
          4.5,
          4.7,
          4.4,
          4.1,
          4,
          4.4,
          4.6,
          4,
          3.3,
          4.2,
          4.2,
          4.2,
          4.3,
          3,
          4.1,
          6,
          5.1,
          5.9,
          5.6,
          5.8,
          6.6,
          4.5,
          6.3,
          5.8,
          6.1,
          5.1,
          5.3,
          5.5,
          5,
          5.1,
          5.3,
          5.5,
          6.7,
          6.9,
          5,
          5.7,
          4.9,
          6.7,
          4.9,
          5.7,
          6,
          4.8,
          4.9,
          5.6,
          5.8,
          6.1,
          6.4,
          5.6,
          5.1,
          5.6,
          6.1,
          5.6,
          5.5,
          4.8,
          5.4,
          5.6,
          5.1,
          5.1,
          5.9,
          5.7,
          5.2,
          5,
          5.2,
          5.4,
          5.1,
          0.2,
          0.2,
          0.2,
          0.2,
          0.2,
          0.4,
          0.3,
          0.2,
          0.2,
          0.1,
          0.2,
          0.2,
          0.1,
          0.1,
          0.2,
          0.4,
          0.4,
          0.3,
          0.3,
          0.3,
          0.2,
          0.4,
          0.2,
          0.5,
          0.2,
          0.2,
          0.4,
          0.2,
          0.2,
          0.2,
          0.2,
          0.4,
          0.1,
          0.2,
          0.2,
          0.2,
          0.2,
          0.1,
          0.2,
          0.2,
          0.3,
          0.3,
          0.2,
          0.6,
          0.4,
          0.3,
          0.2,
          0.2,
          0.2,
          0.2,
          1.4,
          1.5,
          1.5,
          1.3,
          1.5,
          1.3,
          1.6,
          1,
          1.3,
          1.4,
          1,
          1.5,
          1,
          1.4,
          1.3,
          1.4,
          1.5,
          1,
          1.5,
          1.1,
          1.8,
          1.3,
          1.5,
          1.2,
          1.3,
          1.4,
          1.4,
          1.7,
          1.5,
          1,
          1.1,
          1,
          1.2,
          1.6,
          1.5,
          1.6,
          1.5,
          1.3,
          1.3,
          1.3,
          1.2,
          1.4,
          1.2,
          1,
          1.3,
          1.2,
          1.3,
          1.3,
          1.1,
          1.3,
          2.5,
          1.9,
          2.1,
          1.8,
          2.2,
          2.1,
          1.7,
          1.8,
          1.8,
          2.5,
          2,
          1.9,
          2.1,
          2,
          2.4,
          2.3,
          1.8,
          2.2,
          2.3,
          1.5,
          2.3,
          2,
          2,
          1.8,
          2.1,
          1.8,
          1.8,
          1.8,
          2.1,
          1.6,
          1.9,
          2,
          2.2,
          1.5,
          1.4,
          2.3,
          2.4,
          1.8,
          1.8,
          2.1,
          2.4,
          2.3,
          1.9,
          2.3,
          2.5,
          2.3,
          1.9,
          2,
          2.3,
          1.8
         ],
         "y0": " ",
         "yaxis": "y"
        }
       ],
       "layout": {
        "boxmode": "group",
        "legend": {
         "tracegroupgap": 0
        },
        "margin": {
         "t": 60
        },
        "template": {
         "data": {
          "bar": [
           {
            "error_x": {
             "color": "#2a3f5f"
            },
            "error_y": {
             "color": "#2a3f5f"
            },
            "marker": {
             "line": {
              "color": "#E5ECF6",
              "width": 0.5
             },
             "pattern": {
              "fillmode": "overlay",
              "size": 10,
              "solidity": 0.2
             }
            },
            "type": "bar"
           }
          ],
          "barpolar": [
           {
            "marker": {
             "line": {
              "color": "#E5ECF6",
              "width": 0.5
             },
             "pattern": {
              "fillmode": "overlay",
              "size": 10,
              "solidity": 0.2
             }
            },
            "type": "barpolar"
           }
          ],
          "carpet": [
           {
            "aaxis": {
             "endlinecolor": "#2a3f5f",
             "gridcolor": "white",
             "linecolor": "white",
             "minorgridcolor": "white",
             "startlinecolor": "#2a3f5f"
            },
            "baxis": {
             "endlinecolor": "#2a3f5f",
             "gridcolor": "white",
             "linecolor": "white",
             "minorgridcolor": "white",
             "startlinecolor": "#2a3f5f"
            },
            "type": "carpet"
           }
          ],
          "choropleth": [
           {
            "colorbar": {
             "outlinewidth": 0,
             "ticks": ""
            },
            "type": "choropleth"
           }
          ],
          "contour": [
           {
            "colorbar": {
             "outlinewidth": 0,
             "ticks": ""
            },
            "colorscale": [
             [
              0,
              "#0d0887"
             ],
             [
              0.1111111111111111,
              "#46039f"
             ],
             [
              0.2222222222222222,
              "#7201a8"
             ],
             [
              0.3333333333333333,
              "#9c179e"
             ],
             [
              0.4444444444444444,
              "#bd3786"
             ],
             [
              0.5555555555555556,
              "#d8576b"
             ],
             [
              0.6666666666666666,
              "#ed7953"
             ],
             [
              0.7777777777777778,
              "#fb9f3a"
             ],
             [
              0.8888888888888888,
              "#fdca26"
             ],
             [
              1,
              "#f0f921"
             ]
            ],
            "type": "contour"
           }
          ],
          "contourcarpet": [
           {
            "colorbar": {
             "outlinewidth": 0,
             "ticks": ""
            },
            "type": "contourcarpet"
           }
          ],
          "heatmap": [
           {
            "colorbar": {
             "outlinewidth": 0,
             "ticks": ""
            },
            "colorscale": [
             [
              0,
              "#0d0887"
             ],
             [
              0.1111111111111111,
              "#46039f"
             ],
             [
              0.2222222222222222,
              "#7201a8"
             ],
             [
              0.3333333333333333,
              "#9c179e"
             ],
             [
              0.4444444444444444,
              "#bd3786"
             ],
             [
              0.5555555555555556,
              "#d8576b"
             ],
             [
              0.6666666666666666,
              "#ed7953"
             ],
             [
              0.7777777777777778,
              "#fb9f3a"
             ],
             [
              0.8888888888888888,
              "#fdca26"
             ],
             [
              1,
              "#f0f921"
             ]
            ],
            "type": "heatmap"
           }
          ],
          "heatmapgl": [
           {
            "colorbar": {
             "outlinewidth": 0,
             "ticks": ""
            },
            "colorscale": [
             [
              0,
              "#0d0887"
             ],
             [
              0.1111111111111111,
              "#46039f"
             ],
             [
              0.2222222222222222,
              "#7201a8"
             ],
             [
              0.3333333333333333,
              "#9c179e"
             ],
             [
              0.4444444444444444,
              "#bd3786"
             ],
             [
              0.5555555555555556,
              "#d8576b"
             ],
             [
              0.6666666666666666,
              "#ed7953"
             ],
             [
              0.7777777777777778,
              "#fb9f3a"
             ],
             [
              0.8888888888888888,
              "#fdca26"
             ],
             [
              1,
              "#f0f921"
             ]
            ],
            "type": "heatmapgl"
           }
          ],
          "histogram": [
           {
            "marker": {
             "pattern": {
              "fillmode": "overlay",
              "size": 10,
              "solidity": 0.2
             }
            },
            "type": "histogram"
           }
          ],
          "histogram2d": [
           {
            "colorbar": {
             "outlinewidth": 0,
             "ticks": ""
            },
            "colorscale": [
             [
              0,
              "#0d0887"
             ],
             [
              0.1111111111111111,
              "#46039f"
             ],
             [
              0.2222222222222222,
              "#7201a8"
             ],
             [
              0.3333333333333333,
              "#9c179e"
             ],
             [
              0.4444444444444444,
              "#bd3786"
             ],
             [
              0.5555555555555556,
              "#d8576b"
             ],
             [
              0.6666666666666666,
              "#ed7953"
             ],
             [
              0.7777777777777778,
              "#fb9f3a"
             ],
             [
              0.8888888888888888,
              "#fdca26"
             ],
             [
              1,
              "#f0f921"
             ]
            ],
            "type": "histogram2d"
           }
          ],
          "histogram2dcontour": [
           {
            "colorbar": {
             "outlinewidth": 0,
             "ticks": ""
            },
            "colorscale": [
             [
              0,
              "#0d0887"
             ],
             [
              0.1111111111111111,
              "#46039f"
             ],
             [
              0.2222222222222222,
              "#7201a8"
             ],
             [
              0.3333333333333333,
              "#9c179e"
             ],
             [
              0.4444444444444444,
              "#bd3786"
             ],
             [
              0.5555555555555556,
              "#d8576b"
             ],
             [
              0.6666666666666666,
              "#ed7953"
             ],
             [
              0.7777777777777778,
              "#fb9f3a"
             ],
             [
              0.8888888888888888,
              "#fdca26"
             ],
             [
              1,
              "#f0f921"
             ]
            ],
            "type": "histogram2dcontour"
           }
          ],
          "mesh3d": [
           {
            "colorbar": {
             "outlinewidth": 0,
             "ticks": ""
            },
            "type": "mesh3d"
           }
          ],
          "parcoords": [
           {
            "line": {
             "colorbar": {
              "outlinewidth": 0,
              "ticks": ""
             }
            },
            "type": "parcoords"
           }
          ],
          "pie": [
           {
            "automargin": true,
            "type": "pie"
           }
          ],
          "scatter": [
           {
            "fillpattern": {
             "fillmode": "overlay",
             "size": 10,
             "solidity": 0.2
            },
            "type": "scatter"
           }
          ],
          "scatter3d": [
           {
            "line": {
             "colorbar": {
              "outlinewidth": 0,
              "ticks": ""
             }
            },
            "marker": {
             "colorbar": {
              "outlinewidth": 0,
              "ticks": ""
             }
            },
            "type": "scatter3d"
           }
          ],
          "scattercarpet": [
           {
            "marker": {
             "colorbar": {
              "outlinewidth": 0,
              "ticks": ""
             }
            },
            "type": "scattercarpet"
           }
          ],
          "scattergeo": [
           {
            "marker": {
             "colorbar": {
              "outlinewidth": 0,
              "ticks": ""
             }
            },
            "type": "scattergeo"
           }
          ],
          "scattergl": [
           {
            "marker": {
             "colorbar": {
              "outlinewidth": 0,
              "ticks": ""
             }
            },
            "type": "scattergl"
           }
          ],
          "scattermapbox": [
           {
            "marker": {
             "colorbar": {
              "outlinewidth": 0,
              "ticks": ""
             }
            },
            "type": "scattermapbox"
           }
          ],
          "scatterpolar": [
           {
            "marker": {
             "colorbar": {
              "outlinewidth": 0,
              "ticks": ""
             }
            },
            "type": "scatterpolar"
           }
          ],
          "scatterpolargl": [
           {
            "marker": {
             "colorbar": {
              "outlinewidth": 0,
              "ticks": ""
             }
            },
            "type": "scatterpolargl"
           }
          ],
          "scatterternary": [
           {
            "marker": {
             "colorbar": {
              "outlinewidth": 0,
              "ticks": ""
             }
            },
            "type": "scatterternary"
           }
          ],
          "surface": [
           {
            "colorbar": {
             "outlinewidth": 0,
             "ticks": ""
            },
            "colorscale": [
             [
              0,
              "#0d0887"
             ],
             [
              0.1111111111111111,
              "#46039f"
             ],
             [
              0.2222222222222222,
              "#7201a8"
             ],
             [
              0.3333333333333333,
              "#9c179e"
             ],
             [
              0.4444444444444444,
              "#bd3786"
             ],
             [
              0.5555555555555556,
              "#d8576b"
             ],
             [
              0.6666666666666666,
              "#ed7953"
             ],
             [
              0.7777777777777778,
              "#fb9f3a"
             ],
             [
              0.8888888888888888,
              "#fdca26"
             ],
             [
              1,
              "#f0f921"
             ]
            ],
            "type": "surface"
           }
          ],
          "table": [
           {
            "cells": {
             "fill": {
              "color": "#EBF0F8"
             },
             "line": {
              "color": "white"
             }
            },
            "header": {
             "fill": {
              "color": "#C8D4E3"
             },
             "line": {
              "color": "white"
             }
            },
            "type": "table"
           }
          ]
         },
         "layout": {
          "annotationdefaults": {
           "arrowcolor": "#2a3f5f",
           "arrowhead": 0,
           "arrowwidth": 1
          },
          "autotypenumbers": "strict",
          "coloraxis": {
           "colorbar": {
            "outlinewidth": 0,
            "ticks": ""
           }
          },
          "colorscale": {
           "diverging": [
            [
             0,
             "#8e0152"
            ],
            [
             0.1,
             "#c51b7d"
            ],
            [
             0.2,
             "#de77ae"
            ],
            [
             0.3,
             "#f1b6da"
            ],
            [
             0.4,
             "#fde0ef"
            ],
            [
             0.5,
             "#f7f7f7"
            ],
            [
             0.6,
             "#e6f5d0"
            ],
            [
             0.7,
             "#b8e186"
            ],
            [
             0.8,
             "#7fbc41"
            ],
            [
             0.9,
             "#4d9221"
            ],
            [
             1,
             "#276419"
            ]
           ],
           "sequential": [
            [
             0,
             "#0d0887"
            ],
            [
             0.1111111111111111,
             "#46039f"
            ],
            [
             0.2222222222222222,
             "#7201a8"
            ],
            [
             0.3333333333333333,
             "#9c179e"
            ],
            [
             0.4444444444444444,
             "#bd3786"
            ],
            [
             0.5555555555555556,
             "#d8576b"
            ],
            [
             0.6666666666666666,
             "#ed7953"
            ],
            [
             0.7777777777777778,
             "#fb9f3a"
            ],
            [
             0.8888888888888888,
             "#fdca26"
            ],
            [
             1,
             "#f0f921"
            ]
           ],
           "sequentialminus": [
            [
             0,
             "#0d0887"
            ],
            [
             0.1111111111111111,
             "#46039f"
            ],
            [
             0.2222222222222222,
             "#7201a8"
            ],
            [
             0.3333333333333333,
             "#9c179e"
            ],
            [
             0.4444444444444444,
             "#bd3786"
            ],
            [
             0.5555555555555556,
             "#d8576b"
            ],
            [
             0.6666666666666666,
             "#ed7953"
            ],
            [
             0.7777777777777778,
             "#fb9f3a"
            ],
            [
             0.8888888888888888,
             "#fdca26"
            ],
            [
             1,
             "#f0f921"
            ]
           ]
          },
          "colorway": [
           "#636efa",
           "#EF553B",
           "#00cc96",
           "#ab63fa",
           "#FFA15A",
           "#19d3f3",
           "#FF6692",
           "#B6E880",
           "#FF97FF",
           "#FECB52"
          ],
          "font": {
           "color": "#2a3f5f"
          },
          "geo": {
           "bgcolor": "white",
           "lakecolor": "white",
           "landcolor": "#E5ECF6",
           "showlakes": true,
           "showland": true,
           "subunitcolor": "white"
          },
          "hoverlabel": {
           "align": "left"
          },
          "hovermode": "closest",
          "mapbox": {
           "style": "light"
          },
          "paper_bgcolor": "white",
          "plot_bgcolor": "#E5ECF6",
          "polar": {
           "angularaxis": {
            "gridcolor": "white",
            "linecolor": "white",
            "ticks": ""
           },
           "bgcolor": "#E5ECF6",
           "radialaxis": {
            "gridcolor": "white",
            "linecolor": "white",
            "ticks": ""
           }
          },
          "scene": {
           "xaxis": {
            "backgroundcolor": "#E5ECF6",
            "gridcolor": "white",
            "gridwidth": 2,
            "linecolor": "white",
            "showbackground": true,
            "ticks": "",
            "zerolinecolor": "white"
           },
           "yaxis": {
            "backgroundcolor": "#E5ECF6",
            "gridcolor": "white",
            "gridwidth": 2,
            "linecolor": "white",
            "showbackground": true,
            "ticks": "",
            "zerolinecolor": "white"
           },
           "zaxis": {
            "backgroundcolor": "#E5ECF6",
            "gridcolor": "white",
            "gridwidth": 2,
            "linecolor": "white",
            "showbackground": true,
            "ticks": "",
            "zerolinecolor": "white"
           }
          },
          "shapedefaults": {
           "line": {
            "color": "#2a3f5f"
           }
          },
          "ternary": {
           "aaxis": {
            "gridcolor": "white",
            "linecolor": "white",
            "ticks": ""
           },
           "baxis": {
            "gridcolor": "white",
            "linecolor": "white",
            "ticks": ""
           },
           "bgcolor": "#E5ECF6",
           "caxis": {
            "gridcolor": "white",
            "linecolor": "white",
            "ticks": ""
           }
          },
          "title": {
           "x": 0.05
          },
          "xaxis": {
           "automargin": true,
           "gridcolor": "white",
           "linecolor": "white",
           "ticks": "",
           "title": {
            "standoff": 15
           },
           "zerolinecolor": "white",
           "zerolinewidth": 2
          },
          "yaxis": {
           "automargin": true,
           "gridcolor": "white",
           "linecolor": "white",
           "ticks": "",
           "title": {
            "standoff": 15
           },
           "zerolinecolor": "white",
           "zerolinewidth": 2
          }
         }
        },
        "xaxis": {
         "anchor": "y",
         "domain": [
          0,
          1
         ],
         "title": {
          "text": "variable"
         }
        },
        "yaxis": {
         "anchor": "x",
         "domain": [
          0,
          1
         ],
         "title": {
          "text": "value"
         }
        }
       }
      }
     },
     "metadata": {},
     "output_type": "display_data"
    }
   ],
   "source": [
    "px.box(df.iloc[:, :-1])"
   ]
  },
  {
   "cell_type": "code",
   "execution_count": 17,
   "metadata": {
    "colab": {
     "base_uri": "https://localhost:8080/",
     "height": 542
    },
    "id": "1FH0e_lehEFD",
    "outputId": "a150b899-dd7a-4059-8cc5-7abb7a1dceda"
   },
   "outputs": [
    {
     "data": {
      "application/vnd.plotly.v1+json": {
       "config": {
        "plotlyServerURL": "https://plot.ly"
       },
       "data": [
        {
         "alignmentgroup": "True",
         "boxpoints": "all",
         "hovertemplate": "variable=%{x}<br>value=%{y}<extra></extra>",
         "legendgroup": "",
         "marker": {
          "color": "#636efa"
         },
         "name": "",
         "notched": false,
         "offsetgroup": "",
         "orientation": "v",
         "showlegend": false,
         "type": "box",
         "x": [
          "sepal_length",
          "sepal_length",
          "sepal_length",
          "sepal_length",
          "sepal_length",
          "sepal_length",
          "sepal_length",
          "sepal_length",
          "sepal_length",
          "sepal_length",
          "sepal_length",
          "sepal_length",
          "sepal_length",
          "sepal_length",
          "sepal_length",
          "sepal_length",
          "sepal_length",
          "sepal_length",
          "sepal_length",
          "sepal_length",
          "sepal_length",
          "sepal_length",
          "sepal_length",
          "sepal_length",
          "sepal_length",
          "sepal_length",
          "sepal_length",
          "sepal_length",
          "sepal_length",
          "sepal_length",
          "sepal_length",
          "sepal_length",
          "sepal_length",
          "sepal_length",
          "sepal_length",
          "sepal_length",
          "sepal_length",
          "sepal_length",
          "sepal_length",
          "sepal_length",
          "sepal_length",
          "sepal_length",
          "sepal_length",
          "sepal_length",
          "sepal_length",
          "sepal_length",
          "sepal_length",
          "sepal_length",
          "sepal_length",
          "sepal_length",
          "sepal_length",
          "sepal_length",
          "sepal_length",
          "sepal_length",
          "sepal_length",
          "sepal_length",
          "sepal_length",
          "sepal_length",
          "sepal_length",
          "sepal_length",
          "sepal_length",
          "sepal_length",
          "sepal_length",
          "sepal_length",
          "sepal_length",
          "sepal_length",
          "sepal_length",
          "sepal_length",
          "sepal_length",
          "sepal_length",
          "sepal_length",
          "sepal_length",
          "sepal_length",
          "sepal_length",
          "sepal_length",
          "sepal_length",
          "sepal_length",
          "sepal_length",
          "sepal_length",
          "sepal_length",
          "sepal_length",
          "sepal_length",
          "sepal_length",
          "sepal_length",
          "sepal_length",
          "sepal_length",
          "sepal_length",
          "sepal_length",
          "sepal_length",
          "sepal_length",
          "sepal_length",
          "sepal_length",
          "sepal_length",
          "sepal_length",
          "sepal_length",
          "sepal_length",
          "sepal_length",
          "sepal_length",
          "sepal_length",
          "sepal_length",
          "sepal_length",
          "sepal_length",
          "sepal_length",
          "sepal_length",
          "sepal_length",
          "sepal_length",
          "sepal_length",
          "sepal_length",
          "sepal_length",
          "sepal_length",
          "sepal_length",
          "sepal_length",
          "sepal_length",
          "sepal_length",
          "sepal_length",
          "sepal_length",
          "sepal_length",
          "sepal_length",
          "sepal_length",
          "sepal_length",
          "sepal_length",
          "sepal_length",
          "sepal_length",
          "sepal_length",
          "sepal_length",
          "sepal_length",
          "sepal_length",
          "sepal_length",
          "sepal_length",
          "sepal_length",
          "sepal_length",
          "sepal_length",
          "sepal_length",
          "sepal_length",
          "sepal_length",
          "sepal_length",
          "sepal_length",
          "sepal_length",
          "sepal_length",
          "sepal_length",
          "sepal_length",
          "sepal_length",
          "sepal_length",
          "sepal_length",
          "sepal_length",
          "sepal_length",
          "sepal_length",
          "sepal_length",
          "sepal_length",
          "sepal_length",
          "sepal_width",
          "sepal_width",
          "sepal_width",
          "sepal_width",
          "sepal_width",
          "sepal_width",
          "sepal_width",
          "sepal_width",
          "sepal_width",
          "sepal_width",
          "sepal_width",
          "sepal_width",
          "sepal_width",
          "sepal_width",
          "sepal_width",
          "sepal_width",
          "sepal_width",
          "sepal_width",
          "sepal_width",
          "sepal_width",
          "sepal_width",
          "sepal_width",
          "sepal_width",
          "sepal_width",
          "sepal_width",
          "sepal_width",
          "sepal_width",
          "sepal_width",
          "sepal_width",
          "sepal_width",
          "sepal_width",
          "sepal_width",
          "sepal_width",
          "sepal_width",
          "sepal_width",
          "sepal_width",
          "sepal_width",
          "sepal_width",
          "sepal_width",
          "sepal_width",
          "sepal_width",
          "sepal_width",
          "sepal_width",
          "sepal_width",
          "sepal_width",
          "sepal_width",
          "sepal_width",
          "sepal_width",
          "sepal_width",
          "sepal_width",
          "sepal_width",
          "sepal_width",
          "sepal_width",
          "sepal_width",
          "sepal_width",
          "sepal_width",
          "sepal_width",
          "sepal_width",
          "sepal_width",
          "sepal_width",
          "sepal_width",
          "sepal_width",
          "sepal_width",
          "sepal_width",
          "sepal_width",
          "sepal_width",
          "sepal_width",
          "sepal_width",
          "sepal_width",
          "sepal_width",
          "sepal_width",
          "sepal_width",
          "sepal_width",
          "sepal_width",
          "sepal_width",
          "sepal_width",
          "sepal_width",
          "sepal_width",
          "sepal_width",
          "sepal_width",
          "sepal_width",
          "sepal_width",
          "sepal_width",
          "sepal_width",
          "sepal_width",
          "sepal_width",
          "sepal_width",
          "sepal_width",
          "sepal_width",
          "sepal_width",
          "sepal_width",
          "sepal_width",
          "sepal_width",
          "sepal_width",
          "sepal_width",
          "sepal_width",
          "sepal_width",
          "sepal_width",
          "sepal_width",
          "sepal_width",
          "sepal_width",
          "sepal_width",
          "sepal_width",
          "sepal_width",
          "sepal_width",
          "sepal_width",
          "sepal_width",
          "sepal_width",
          "sepal_width",
          "sepal_width",
          "sepal_width",
          "sepal_width",
          "sepal_width",
          "sepal_width",
          "sepal_width",
          "sepal_width",
          "sepal_width",
          "sepal_width",
          "sepal_width",
          "sepal_width",
          "sepal_width",
          "sepal_width",
          "sepal_width",
          "sepal_width",
          "sepal_width",
          "sepal_width",
          "sepal_width",
          "sepal_width",
          "sepal_width",
          "sepal_width",
          "sepal_width",
          "sepal_width",
          "sepal_width",
          "sepal_width",
          "sepal_width",
          "sepal_width",
          "sepal_width",
          "sepal_width",
          "sepal_width",
          "sepal_width",
          "sepal_width",
          "sepal_width",
          "sepal_width",
          "sepal_width",
          "sepal_width",
          "sepal_width",
          "sepal_width",
          "sepal_width",
          "sepal_width",
          "sepal_width",
          "petal_length",
          "petal_length",
          "petal_length",
          "petal_length",
          "petal_length",
          "petal_length",
          "petal_length",
          "petal_length",
          "petal_length",
          "petal_length",
          "petal_length",
          "petal_length",
          "petal_length",
          "petal_length",
          "petal_length",
          "petal_length",
          "petal_length",
          "petal_length",
          "petal_length",
          "petal_length",
          "petal_length",
          "petal_length",
          "petal_length",
          "petal_length",
          "petal_length",
          "petal_length",
          "petal_length",
          "petal_length",
          "petal_length",
          "petal_length",
          "petal_length",
          "petal_length",
          "petal_length",
          "petal_length",
          "petal_length",
          "petal_length",
          "petal_length",
          "petal_length",
          "petal_length",
          "petal_length",
          "petal_length",
          "petal_length",
          "petal_length",
          "petal_length",
          "petal_length",
          "petal_length",
          "petal_length",
          "petal_length",
          "petal_length",
          "petal_length",
          "petal_length",
          "petal_length",
          "petal_length",
          "petal_length",
          "petal_length",
          "petal_length",
          "petal_length",
          "petal_length",
          "petal_length",
          "petal_length",
          "petal_length",
          "petal_length",
          "petal_length",
          "petal_length",
          "petal_length",
          "petal_length",
          "petal_length",
          "petal_length",
          "petal_length",
          "petal_length",
          "petal_length",
          "petal_length",
          "petal_length",
          "petal_length",
          "petal_length",
          "petal_length",
          "petal_length",
          "petal_length",
          "petal_length",
          "petal_length",
          "petal_length",
          "petal_length",
          "petal_length",
          "petal_length",
          "petal_length",
          "petal_length",
          "petal_length",
          "petal_length",
          "petal_length",
          "petal_length",
          "petal_length",
          "petal_length",
          "petal_length",
          "petal_length",
          "petal_length",
          "petal_length",
          "petal_length",
          "petal_length",
          "petal_length",
          "petal_length",
          "petal_length",
          "petal_length",
          "petal_length",
          "petal_length",
          "petal_length",
          "petal_length",
          "petal_length",
          "petal_length",
          "petal_length",
          "petal_length",
          "petal_length",
          "petal_length",
          "petal_length",
          "petal_length",
          "petal_length",
          "petal_length",
          "petal_length",
          "petal_length",
          "petal_length",
          "petal_length",
          "petal_length",
          "petal_length",
          "petal_length",
          "petal_length",
          "petal_length",
          "petal_length",
          "petal_length",
          "petal_length",
          "petal_length",
          "petal_length",
          "petal_length",
          "petal_length",
          "petal_length",
          "petal_length",
          "petal_length",
          "petal_length",
          "petal_length",
          "petal_length",
          "petal_length",
          "petal_length",
          "petal_length",
          "petal_length",
          "petal_length",
          "petal_length",
          "petal_length",
          "petal_length",
          "petal_length",
          "petal_length",
          "petal_length",
          "petal_length",
          "petal_width",
          "petal_width",
          "petal_width",
          "petal_width",
          "petal_width",
          "petal_width",
          "petal_width",
          "petal_width",
          "petal_width",
          "petal_width",
          "petal_width",
          "petal_width",
          "petal_width",
          "petal_width",
          "petal_width",
          "petal_width",
          "petal_width",
          "petal_width",
          "petal_width",
          "petal_width",
          "petal_width",
          "petal_width",
          "petal_width",
          "petal_width",
          "petal_width",
          "petal_width",
          "petal_width",
          "petal_width",
          "petal_width",
          "petal_width",
          "petal_width",
          "petal_width",
          "petal_width",
          "petal_width",
          "petal_width",
          "petal_width",
          "petal_width",
          "petal_width",
          "petal_width",
          "petal_width",
          "petal_width",
          "petal_width",
          "petal_width",
          "petal_width",
          "petal_width",
          "petal_width",
          "petal_width",
          "petal_width",
          "petal_width",
          "petal_width",
          "petal_width",
          "petal_width",
          "petal_width",
          "petal_width",
          "petal_width",
          "petal_width",
          "petal_width",
          "petal_width",
          "petal_width",
          "petal_width",
          "petal_width",
          "petal_width",
          "petal_width",
          "petal_width",
          "petal_width",
          "petal_width",
          "petal_width",
          "petal_width",
          "petal_width",
          "petal_width",
          "petal_width",
          "petal_width",
          "petal_width",
          "petal_width",
          "petal_width",
          "petal_width",
          "petal_width",
          "petal_width",
          "petal_width",
          "petal_width",
          "petal_width",
          "petal_width",
          "petal_width",
          "petal_width",
          "petal_width",
          "petal_width",
          "petal_width",
          "petal_width",
          "petal_width",
          "petal_width",
          "petal_width",
          "petal_width",
          "petal_width",
          "petal_width",
          "petal_width",
          "petal_width",
          "petal_width",
          "petal_width",
          "petal_width",
          "petal_width",
          "petal_width",
          "petal_width",
          "petal_width",
          "petal_width",
          "petal_width",
          "petal_width",
          "petal_width",
          "petal_width",
          "petal_width",
          "petal_width",
          "petal_width",
          "petal_width",
          "petal_width",
          "petal_width",
          "petal_width",
          "petal_width",
          "petal_width",
          "petal_width",
          "petal_width",
          "petal_width",
          "petal_width",
          "petal_width",
          "petal_width",
          "petal_width",
          "petal_width",
          "petal_width",
          "petal_width",
          "petal_width",
          "petal_width",
          "petal_width",
          "petal_width",
          "petal_width",
          "petal_width",
          "petal_width",
          "petal_width",
          "petal_width",
          "petal_width",
          "petal_width",
          "petal_width",
          "petal_width",
          "petal_width",
          "petal_width",
          "petal_width",
          "petal_width",
          "petal_width",
          "petal_width",
          "petal_width",
          "petal_width",
          "petal_width",
          "petal_width"
         ],
         "x0": " ",
         "xaxis": "x",
         "y": [
          5.1,
          4.9,
          4.7,
          4.6,
          5,
          5.4,
          4.6,
          5,
          4.4,
          4.9,
          5.4,
          4.8,
          4.8,
          4.3,
          5.8,
          5.7,
          5.4,
          5.1,
          5.7,
          5.1,
          5.4,
          5.1,
          4.6,
          5.1,
          4.8,
          5,
          5,
          5.2,
          5.2,
          4.7,
          4.8,
          5.4,
          5.2,
          5.5,
          4.9,
          5,
          5.5,
          4.9,
          4.4,
          5.1,
          5,
          4.5,
          4.4,
          5,
          5.1,
          4.8,
          5.1,
          4.6,
          5.3,
          5,
          7,
          6.4,
          6.9,
          5.5,
          6.5,
          5.7,
          6.3,
          4.9,
          6.6,
          5.2,
          5,
          5.9,
          6,
          6.1,
          5.6,
          6.7,
          5.6,
          5.8,
          6.2,
          5.6,
          5.9,
          6.1,
          6.3,
          6.1,
          6.4,
          6.6,
          6.8,
          6.7,
          6,
          5.7,
          5.5,
          5.5,
          5.8,
          6,
          5.4,
          6,
          6.7,
          6.3,
          5.6,
          5.5,
          5.5,
          6.1,
          5.8,
          5,
          5.6,
          5.7,
          5.7,
          6.2,
          5.1,
          5.7,
          6.3,
          5.8,
          7.1,
          6.3,
          6.5,
          7.6,
          4.9,
          7.3,
          6.7,
          7.2,
          6.5,
          6.4,
          6.8,
          5.7,
          5.8,
          6.4,
          6.5,
          7.7,
          7.7,
          6,
          6.9,
          5.6,
          7.7,
          6.3,
          6.7,
          7.2,
          6.2,
          6.1,
          6.4,
          7.2,
          7.4,
          7.9,
          6.4,
          6.3,
          6.1,
          7.7,
          6.3,
          6.4,
          6,
          6.9,
          6.7,
          6.9,
          5.8,
          6.8,
          6.7,
          6.7,
          6.3,
          6.5,
          6.2,
          5.9,
          3.5,
          3,
          3.2,
          3.1,
          3.6,
          3.9,
          3.4,
          3.4,
          2.9,
          3.1,
          3.7,
          3.4,
          3,
          3,
          4,
          4.4,
          3.9,
          3.5,
          3.8,
          3.8,
          3.4,
          3.7,
          3.6,
          3.3,
          3.4,
          3,
          3.4,
          3.5,
          3.4,
          3.2,
          3.1,
          3.4,
          4.1,
          4.2,
          3.1,
          3.2,
          3.5,
          3.6,
          3,
          3.4,
          3.5,
          2.3,
          3.2,
          3.5,
          3.8,
          3,
          3.8,
          3.2,
          3.7,
          3.3,
          3.2,
          3.2,
          3.1,
          2.3,
          2.8,
          2.8,
          3.3,
          2.4,
          2.9,
          2.7,
          2,
          3,
          2.2,
          2.9,
          2.9,
          3.1,
          3,
          2.7,
          2.2,
          2.5,
          3.2,
          2.8,
          2.5,
          2.8,
          2.9,
          3,
          2.8,
          3,
          2.9,
          2.6,
          2.4,
          2.4,
          2.7,
          2.7,
          3,
          3.4,
          3.1,
          2.3,
          3,
          2.5,
          2.6,
          3,
          2.6,
          2.3,
          2.7,
          3,
          2.9,
          2.9,
          2.5,
          2.8,
          3.3,
          2.7,
          3,
          2.9,
          3,
          3,
          2.5,
          2.9,
          2.5,
          3.6,
          3.2,
          2.7,
          3,
          2.5,
          2.8,
          3.2,
          3,
          3.8,
          2.6,
          2.2,
          3.2,
          2.8,
          2.8,
          2.7,
          3.3,
          3.2,
          2.8,
          3,
          2.8,
          3,
          2.8,
          3.8,
          2.8,
          2.8,
          2.6,
          3,
          3.4,
          3.1,
          3,
          3.1,
          3.1,
          3.1,
          2.7,
          3.2,
          3.3,
          3,
          2.5,
          3,
          3.4,
          3,
          1.4,
          1.4,
          1.3,
          1.5,
          1.4,
          1.7,
          1.4,
          1.5,
          1.4,
          1.5,
          1.5,
          1.6,
          1.4,
          1.1,
          1.2,
          1.5,
          1.3,
          1.4,
          1.7,
          1.5,
          1.7,
          1.5,
          1,
          1.7,
          1.9,
          1.6,
          1.6,
          1.5,
          1.4,
          1.6,
          1.6,
          1.5,
          1.5,
          1.4,
          1.5,
          1.2,
          1.3,
          1.4,
          1.3,
          1.5,
          1.3,
          1.3,
          1.3,
          1.6,
          1.9,
          1.4,
          1.6,
          1.4,
          1.5,
          1.4,
          4.7,
          4.5,
          4.9,
          4,
          4.6,
          4.5,
          4.7,
          3.3,
          4.6,
          3.9,
          3.5,
          4.2,
          4,
          4.7,
          3.6,
          4.4,
          4.5,
          4.1,
          4.5,
          3.9,
          4.8,
          4,
          4.9,
          4.7,
          4.3,
          4.4,
          4.8,
          5,
          4.5,
          3.5,
          3.8,
          3.7,
          3.9,
          5.1,
          4.5,
          4.5,
          4.7,
          4.4,
          4.1,
          4,
          4.4,
          4.6,
          4,
          3.3,
          4.2,
          4.2,
          4.2,
          4.3,
          3,
          4.1,
          6,
          5.1,
          5.9,
          5.6,
          5.8,
          6.6,
          4.5,
          6.3,
          5.8,
          6.1,
          5.1,
          5.3,
          5.5,
          5,
          5.1,
          5.3,
          5.5,
          6.7,
          6.9,
          5,
          5.7,
          4.9,
          6.7,
          4.9,
          5.7,
          6,
          4.8,
          4.9,
          5.6,
          5.8,
          6.1,
          6.4,
          5.6,
          5.1,
          5.6,
          6.1,
          5.6,
          5.5,
          4.8,
          5.4,
          5.6,
          5.1,
          5.1,
          5.9,
          5.7,
          5.2,
          5,
          5.2,
          5.4,
          5.1,
          0.2,
          0.2,
          0.2,
          0.2,
          0.2,
          0.4,
          0.3,
          0.2,
          0.2,
          0.1,
          0.2,
          0.2,
          0.1,
          0.1,
          0.2,
          0.4,
          0.4,
          0.3,
          0.3,
          0.3,
          0.2,
          0.4,
          0.2,
          0.5,
          0.2,
          0.2,
          0.4,
          0.2,
          0.2,
          0.2,
          0.2,
          0.4,
          0.1,
          0.2,
          0.2,
          0.2,
          0.2,
          0.1,
          0.2,
          0.2,
          0.3,
          0.3,
          0.2,
          0.6,
          0.4,
          0.3,
          0.2,
          0.2,
          0.2,
          0.2,
          1.4,
          1.5,
          1.5,
          1.3,
          1.5,
          1.3,
          1.6,
          1,
          1.3,
          1.4,
          1,
          1.5,
          1,
          1.4,
          1.3,
          1.4,
          1.5,
          1,
          1.5,
          1.1,
          1.8,
          1.3,
          1.5,
          1.2,
          1.3,
          1.4,
          1.4,
          1.7,
          1.5,
          1,
          1.1,
          1,
          1.2,
          1.6,
          1.5,
          1.6,
          1.5,
          1.3,
          1.3,
          1.3,
          1.2,
          1.4,
          1.2,
          1,
          1.3,
          1.2,
          1.3,
          1.3,
          1.1,
          1.3,
          2.5,
          1.9,
          2.1,
          1.8,
          2.2,
          2.1,
          1.7,
          1.8,
          1.8,
          2.5,
          2,
          1.9,
          2.1,
          2,
          2.4,
          2.3,
          1.8,
          2.2,
          2.3,
          1.5,
          2.3,
          2,
          2,
          1.8,
          2.1,
          1.8,
          1.8,
          1.8,
          2.1,
          1.6,
          1.9,
          2,
          2.2,
          1.5,
          1.4,
          2.3,
          2.4,
          1.8,
          1.8,
          2.1,
          2.4,
          2.3,
          1.9,
          2.3,
          2.5,
          2.3,
          1.9,
          2,
          2.3,
          1.8
         ],
         "y0": " ",
         "yaxis": "y"
        }
       ],
       "layout": {
        "boxmode": "group",
        "legend": {
         "tracegroupgap": 0
        },
        "margin": {
         "t": 60
        },
        "template": {
         "data": {
          "bar": [
           {
            "error_x": {
             "color": "#2a3f5f"
            },
            "error_y": {
             "color": "#2a3f5f"
            },
            "marker": {
             "line": {
              "color": "#E5ECF6",
              "width": 0.5
             },
             "pattern": {
              "fillmode": "overlay",
              "size": 10,
              "solidity": 0.2
             }
            },
            "type": "bar"
           }
          ],
          "barpolar": [
           {
            "marker": {
             "line": {
              "color": "#E5ECF6",
              "width": 0.5
             },
             "pattern": {
              "fillmode": "overlay",
              "size": 10,
              "solidity": 0.2
             }
            },
            "type": "barpolar"
           }
          ],
          "carpet": [
           {
            "aaxis": {
             "endlinecolor": "#2a3f5f",
             "gridcolor": "white",
             "linecolor": "white",
             "minorgridcolor": "white",
             "startlinecolor": "#2a3f5f"
            },
            "baxis": {
             "endlinecolor": "#2a3f5f",
             "gridcolor": "white",
             "linecolor": "white",
             "minorgridcolor": "white",
             "startlinecolor": "#2a3f5f"
            },
            "type": "carpet"
           }
          ],
          "choropleth": [
           {
            "colorbar": {
             "outlinewidth": 0,
             "ticks": ""
            },
            "type": "choropleth"
           }
          ],
          "contour": [
           {
            "colorbar": {
             "outlinewidth": 0,
             "ticks": ""
            },
            "colorscale": [
             [
              0,
              "#0d0887"
             ],
             [
              0.1111111111111111,
              "#46039f"
             ],
             [
              0.2222222222222222,
              "#7201a8"
             ],
             [
              0.3333333333333333,
              "#9c179e"
             ],
             [
              0.4444444444444444,
              "#bd3786"
             ],
             [
              0.5555555555555556,
              "#d8576b"
             ],
             [
              0.6666666666666666,
              "#ed7953"
             ],
             [
              0.7777777777777778,
              "#fb9f3a"
             ],
             [
              0.8888888888888888,
              "#fdca26"
             ],
             [
              1,
              "#f0f921"
             ]
            ],
            "type": "contour"
           }
          ],
          "contourcarpet": [
           {
            "colorbar": {
             "outlinewidth": 0,
             "ticks": ""
            },
            "type": "contourcarpet"
           }
          ],
          "heatmap": [
           {
            "colorbar": {
             "outlinewidth": 0,
             "ticks": ""
            },
            "colorscale": [
             [
              0,
              "#0d0887"
             ],
             [
              0.1111111111111111,
              "#46039f"
             ],
             [
              0.2222222222222222,
              "#7201a8"
             ],
             [
              0.3333333333333333,
              "#9c179e"
             ],
             [
              0.4444444444444444,
              "#bd3786"
             ],
             [
              0.5555555555555556,
              "#d8576b"
             ],
             [
              0.6666666666666666,
              "#ed7953"
             ],
             [
              0.7777777777777778,
              "#fb9f3a"
             ],
             [
              0.8888888888888888,
              "#fdca26"
             ],
             [
              1,
              "#f0f921"
             ]
            ],
            "type": "heatmap"
           }
          ],
          "heatmapgl": [
           {
            "colorbar": {
             "outlinewidth": 0,
             "ticks": ""
            },
            "colorscale": [
             [
              0,
              "#0d0887"
             ],
             [
              0.1111111111111111,
              "#46039f"
             ],
             [
              0.2222222222222222,
              "#7201a8"
             ],
             [
              0.3333333333333333,
              "#9c179e"
             ],
             [
              0.4444444444444444,
              "#bd3786"
             ],
             [
              0.5555555555555556,
              "#d8576b"
             ],
             [
              0.6666666666666666,
              "#ed7953"
             ],
             [
              0.7777777777777778,
              "#fb9f3a"
             ],
             [
              0.8888888888888888,
              "#fdca26"
             ],
             [
              1,
              "#f0f921"
             ]
            ],
            "type": "heatmapgl"
           }
          ],
          "histogram": [
           {
            "marker": {
             "pattern": {
              "fillmode": "overlay",
              "size": 10,
              "solidity": 0.2
             }
            },
            "type": "histogram"
           }
          ],
          "histogram2d": [
           {
            "colorbar": {
             "outlinewidth": 0,
             "ticks": ""
            },
            "colorscale": [
             [
              0,
              "#0d0887"
             ],
             [
              0.1111111111111111,
              "#46039f"
             ],
             [
              0.2222222222222222,
              "#7201a8"
             ],
             [
              0.3333333333333333,
              "#9c179e"
             ],
             [
              0.4444444444444444,
              "#bd3786"
             ],
             [
              0.5555555555555556,
              "#d8576b"
             ],
             [
              0.6666666666666666,
              "#ed7953"
             ],
             [
              0.7777777777777778,
              "#fb9f3a"
             ],
             [
              0.8888888888888888,
              "#fdca26"
             ],
             [
              1,
              "#f0f921"
             ]
            ],
            "type": "histogram2d"
           }
          ],
          "histogram2dcontour": [
           {
            "colorbar": {
             "outlinewidth": 0,
             "ticks": ""
            },
            "colorscale": [
             [
              0,
              "#0d0887"
             ],
             [
              0.1111111111111111,
              "#46039f"
             ],
             [
              0.2222222222222222,
              "#7201a8"
             ],
             [
              0.3333333333333333,
              "#9c179e"
             ],
             [
              0.4444444444444444,
              "#bd3786"
             ],
             [
              0.5555555555555556,
              "#d8576b"
             ],
             [
              0.6666666666666666,
              "#ed7953"
             ],
             [
              0.7777777777777778,
              "#fb9f3a"
             ],
             [
              0.8888888888888888,
              "#fdca26"
             ],
             [
              1,
              "#f0f921"
             ]
            ],
            "type": "histogram2dcontour"
           }
          ],
          "mesh3d": [
           {
            "colorbar": {
             "outlinewidth": 0,
             "ticks": ""
            },
            "type": "mesh3d"
           }
          ],
          "parcoords": [
           {
            "line": {
             "colorbar": {
              "outlinewidth": 0,
              "ticks": ""
             }
            },
            "type": "parcoords"
           }
          ],
          "pie": [
           {
            "automargin": true,
            "type": "pie"
           }
          ],
          "scatter": [
           {
            "fillpattern": {
             "fillmode": "overlay",
             "size": 10,
             "solidity": 0.2
            },
            "type": "scatter"
           }
          ],
          "scatter3d": [
           {
            "line": {
             "colorbar": {
              "outlinewidth": 0,
              "ticks": ""
             }
            },
            "marker": {
             "colorbar": {
              "outlinewidth": 0,
              "ticks": ""
             }
            },
            "type": "scatter3d"
           }
          ],
          "scattercarpet": [
           {
            "marker": {
             "colorbar": {
              "outlinewidth": 0,
              "ticks": ""
             }
            },
            "type": "scattercarpet"
           }
          ],
          "scattergeo": [
           {
            "marker": {
             "colorbar": {
              "outlinewidth": 0,
              "ticks": ""
             }
            },
            "type": "scattergeo"
           }
          ],
          "scattergl": [
           {
            "marker": {
             "colorbar": {
              "outlinewidth": 0,
              "ticks": ""
             }
            },
            "type": "scattergl"
           }
          ],
          "scattermapbox": [
           {
            "marker": {
             "colorbar": {
              "outlinewidth": 0,
              "ticks": ""
             }
            },
            "type": "scattermapbox"
           }
          ],
          "scatterpolar": [
           {
            "marker": {
             "colorbar": {
              "outlinewidth": 0,
              "ticks": ""
             }
            },
            "type": "scatterpolar"
           }
          ],
          "scatterpolargl": [
           {
            "marker": {
             "colorbar": {
              "outlinewidth": 0,
              "ticks": ""
             }
            },
            "type": "scatterpolargl"
           }
          ],
          "scatterternary": [
           {
            "marker": {
             "colorbar": {
              "outlinewidth": 0,
              "ticks": ""
             }
            },
            "type": "scatterternary"
           }
          ],
          "surface": [
           {
            "colorbar": {
             "outlinewidth": 0,
             "ticks": ""
            },
            "colorscale": [
             [
              0,
              "#0d0887"
             ],
             [
              0.1111111111111111,
              "#46039f"
             ],
             [
              0.2222222222222222,
              "#7201a8"
             ],
             [
              0.3333333333333333,
              "#9c179e"
             ],
             [
              0.4444444444444444,
              "#bd3786"
             ],
             [
              0.5555555555555556,
              "#d8576b"
             ],
             [
              0.6666666666666666,
              "#ed7953"
             ],
             [
              0.7777777777777778,
              "#fb9f3a"
             ],
             [
              0.8888888888888888,
              "#fdca26"
             ],
             [
              1,
              "#f0f921"
             ]
            ],
            "type": "surface"
           }
          ],
          "table": [
           {
            "cells": {
             "fill": {
              "color": "#EBF0F8"
             },
             "line": {
              "color": "white"
             }
            },
            "header": {
             "fill": {
              "color": "#C8D4E3"
             },
             "line": {
              "color": "white"
             }
            },
            "type": "table"
           }
          ]
         },
         "layout": {
          "annotationdefaults": {
           "arrowcolor": "#2a3f5f",
           "arrowhead": 0,
           "arrowwidth": 1
          },
          "autotypenumbers": "strict",
          "coloraxis": {
           "colorbar": {
            "outlinewidth": 0,
            "ticks": ""
           }
          },
          "colorscale": {
           "diverging": [
            [
             0,
             "#8e0152"
            ],
            [
             0.1,
             "#c51b7d"
            ],
            [
             0.2,
             "#de77ae"
            ],
            [
             0.3,
             "#f1b6da"
            ],
            [
             0.4,
             "#fde0ef"
            ],
            [
             0.5,
             "#f7f7f7"
            ],
            [
             0.6,
             "#e6f5d0"
            ],
            [
             0.7,
             "#b8e186"
            ],
            [
             0.8,
             "#7fbc41"
            ],
            [
             0.9,
             "#4d9221"
            ],
            [
             1,
             "#276419"
            ]
           ],
           "sequential": [
            [
             0,
             "#0d0887"
            ],
            [
             0.1111111111111111,
             "#46039f"
            ],
            [
             0.2222222222222222,
             "#7201a8"
            ],
            [
             0.3333333333333333,
             "#9c179e"
            ],
            [
             0.4444444444444444,
             "#bd3786"
            ],
            [
             0.5555555555555556,
             "#d8576b"
            ],
            [
             0.6666666666666666,
             "#ed7953"
            ],
            [
             0.7777777777777778,
             "#fb9f3a"
            ],
            [
             0.8888888888888888,
             "#fdca26"
            ],
            [
             1,
             "#f0f921"
            ]
           ],
           "sequentialminus": [
            [
             0,
             "#0d0887"
            ],
            [
             0.1111111111111111,
             "#46039f"
            ],
            [
             0.2222222222222222,
             "#7201a8"
            ],
            [
             0.3333333333333333,
             "#9c179e"
            ],
            [
             0.4444444444444444,
             "#bd3786"
            ],
            [
             0.5555555555555556,
             "#d8576b"
            ],
            [
             0.6666666666666666,
             "#ed7953"
            ],
            [
             0.7777777777777778,
             "#fb9f3a"
            ],
            [
             0.8888888888888888,
             "#fdca26"
            ],
            [
             1,
             "#f0f921"
            ]
           ]
          },
          "colorway": [
           "#636efa",
           "#EF553B",
           "#00cc96",
           "#ab63fa",
           "#FFA15A",
           "#19d3f3",
           "#FF6692",
           "#B6E880",
           "#FF97FF",
           "#FECB52"
          ],
          "font": {
           "color": "#2a3f5f"
          },
          "geo": {
           "bgcolor": "white",
           "lakecolor": "white",
           "landcolor": "#E5ECF6",
           "showlakes": true,
           "showland": true,
           "subunitcolor": "white"
          },
          "hoverlabel": {
           "align": "left"
          },
          "hovermode": "closest",
          "mapbox": {
           "style": "light"
          },
          "paper_bgcolor": "white",
          "plot_bgcolor": "#E5ECF6",
          "polar": {
           "angularaxis": {
            "gridcolor": "white",
            "linecolor": "white",
            "ticks": ""
           },
           "bgcolor": "#E5ECF6",
           "radialaxis": {
            "gridcolor": "white",
            "linecolor": "white",
            "ticks": ""
           }
          },
          "scene": {
           "xaxis": {
            "backgroundcolor": "#E5ECF6",
            "gridcolor": "white",
            "gridwidth": 2,
            "linecolor": "white",
            "showbackground": true,
            "ticks": "",
            "zerolinecolor": "white"
           },
           "yaxis": {
            "backgroundcolor": "#E5ECF6",
            "gridcolor": "white",
            "gridwidth": 2,
            "linecolor": "white",
            "showbackground": true,
            "ticks": "",
            "zerolinecolor": "white"
           },
           "zaxis": {
            "backgroundcolor": "#E5ECF6",
            "gridcolor": "white",
            "gridwidth": 2,
            "linecolor": "white",
            "showbackground": true,
            "ticks": "",
            "zerolinecolor": "white"
           }
          },
          "shapedefaults": {
           "line": {
            "color": "#2a3f5f"
           }
          },
          "ternary": {
           "aaxis": {
            "gridcolor": "white",
            "linecolor": "white",
            "ticks": ""
           },
           "baxis": {
            "gridcolor": "white",
            "linecolor": "white",
            "ticks": ""
           },
           "bgcolor": "#E5ECF6",
           "caxis": {
            "gridcolor": "white",
            "linecolor": "white",
            "ticks": ""
           }
          },
          "title": {
           "x": 0.05
          },
          "xaxis": {
           "automargin": true,
           "gridcolor": "white",
           "linecolor": "white",
           "ticks": "",
           "title": {
            "standoff": 15
           },
           "zerolinecolor": "white",
           "zerolinewidth": 2
          },
          "yaxis": {
           "automargin": true,
           "gridcolor": "white",
           "linecolor": "white",
           "ticks": "",
           "title": {
            "standoff": 15
           },
           "zerolinecolor": "white",
           "zerolinewidth": 2
          }
         }
        },
        "xaxis": {
         "anchor": "y",
         "domain": [
          0,
          1
         ],
         "title": {
          "text": "variable"
         }
        },
        "yaxis": {
         "anchor": "x",
         "domain": [
          0,
          1
         ],
         "title": {
          "text": "value"
         }
        }
       }
      }
     },
     "metadata": {},
     "output_type": "display_data"
    }
   ],
   "source": [
    "px.box(df.iloc[:, :-1], points='all')"
   ]
  },
  {
   "cell_type": "code",
   "execution_count": null,
   "metadata": {
    "id": "NOVLBmcahafS"
   },
   "outputs": [],
   "source": []
  }
 ],
 "metadata": {
  "colab": {
   "provenance": []
  },
  "kernelspec": {
   "display_name": "Python 3 (ipykernel)",
   "language": "python",
   "name": "python3"
  },
  "language_info": {
   "codemirror_mode": {
    "name": "ipython",
    "version": 3
   },
   "file_extension": ".py",
   "mimetype": "text/x-python",
   "name": "python",
   "nbconvert_exporter": "python",
   "pygments_lexer": "ipython3",
   "version": "3.12.0"
  }
 },
 "nbformat": 4,
 "nbformat_minor": 4
}
