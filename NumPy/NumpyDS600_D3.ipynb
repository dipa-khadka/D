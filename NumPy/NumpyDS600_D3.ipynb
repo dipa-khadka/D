{
  "nbformat": 4,
  "nbformat_minor": 0,
  "metadata": {
    "colab": {
      "provenance": []
    },
    "kernelspec": {
      "name": "python3",
      "display_name": "Python 3"
    },
    "language_info": {
      "name": "python"
    }
  },
  "cells": [
    {
      "cell_type": "code",
      "execution_count": null,
      "metadata": {
        "id": "v-yhpp-gt6e4"
      },
      "outputs": [],
      "source": [
        "import numpy as np\n"
      ]
    },
    {
      "cell_type": "markdown",
      "source": [
        "# Matrix multiplication or dot product"
      ],
      "metadata": {
        "id": "EOkBmluMxMYp"
      }
    },
    {
      "cell_type": "code",
      "source": [
        "A = np.array([[1,2,3],[4,5,6]])\n",
        "B = np.array([[7,8],[9,10],[11,12]])"
      ],
      "metadata": {
        "id": "J1gIyLdwxCU0"
      },
      "execution_count": null,
      "outputs": []
    },
    {
      "cell_type": "code",
      "source": [
        "A.shape   # let m*n"
      ],
      "metadata": {
        "colab": {
          "base_uri": "https://localhost:8080/"
        },
        "id": "OFxGxzYHxfnm",
        "outputId": "af027736-98b3-4dd8-d823-799f7a11d130"
      },
      "execution_count": null,
      "outputs": [
        {
          "output_type": "execute_result",
          "data": {
            "text/plain": [
              "(2, 3)"
            ]
          },
          "metadata": {},
          "execution_count": 5
        }
      ]
    },
    {
      "cell_type": "code",
      "source": [
        "B.shape  # let p*q"
      ],
      "metadata": {
        "colab": {
          "base_uri": "https://localhost:8080/"
        },
        "id": "ub04arbOx2dT",
        "outputId": "35c8835c-77c5-4435-a54b-d2632f449861"
      },
      "execution_count": null,
      "outputs": [
        {
          "output_type": "execute_result",
          "data": {
            "text/plain": [
              "(3, 2)"
            ]
          },
          "metadata": {},
          "execution_count": 6
        }
      ]
    },
    {
      "cell_type": "code",
      "source": [
        "# if n==p vay vane matrix multiply hunxa"
      ],
      "metadata": {
        "id": "4IorZ2BnyTFk"
      },
      "execution_count": null,
      "outputs": []
    },
    {
      "cell_type": "code",
      "source": [
        "output=np.dot(A,B)\n",
        "output"
      ],
      "metadata": {
        "colab": {
          "base_uri": "https://localhost:8080/"
        },
        "id": "FeU0Au6jybNv",
        "outputId": "cd58de1f-48b1-4b09-9617-73b82a05ac71"
      },
      "execution_count": null,
      "outputs": [
        {
          "output_type": "execute_result",
          "data": {
            "text/plain": [
              "array([[ 58,  64],\n",
              "       [139, 154]])"
            ]
          },
          "metadata": {},
          "execution_count": 7
        }
      ]
    },
    {
      "cell_type": "markdown",
      "source": [
        "# Determinant Transpose and inverse of Matrix"
      ],
      "metadata": {
        "id": "r58ij_h0ylLT"
      }
    },
    {
      "cell_type": "code",
      "source": [
        "# Transpose (row  column hunxa and column row hunxa transpose ma)\n",
        "output.T"
      ],
      "metadata": {
        "colab": {
          "base_uri": "https://localhost:8080/"
        },
        "id": "2HW_Q8ZayhV3",
        "outputId": "23ed53c1-658e-47e7-83af-ed2d1586e8bb"
      },
      "execution_count": null,
      "outputs": [
        {
          "output_type": "execute_result",
          "data": {
            "text/plain": [
              "array([[ 58, 139],\n",
              "       [ 64, 154]])"
            ]
          },
          "metadata": {},
          "execution_count": 8
        }
      ]
    },
    {
      "cell_type": "code",
      "source": [
        "# to find out determination\n",
        "det=np.linalg.det(output)\n",
        "det"
      ],
      "metadata": {
        "colab": {
          "base_uri": "https://localhost:8080/"
        },
        "id": "26voLqtHy3jo",
        "outputId": "950fee6b-c06b-4085-f59f-2f6e159530b4"
      },
      "execution_count": null,
      "outputs": [
        {
          "output_type": "execute_result",
          "data": {
            "text/plain": [
              "36.000000000000256"
            ]
          },
          "metadata": {},
          "execution_count": 13
        }
      ]
    },
    {
      "cell_type": "code",
      "source": [
        "np.round(det)"
      ],
      "metadata": {
        "colab": {
          "base_uri": "https://localhost:8080/"
        },
        "id": "-oeTDgkuzgx_",
        "outputId": "6a91597f-62e8-459f-d159-088675e6e789"
      },
      "execution_count": null,
      "outputs": [
        {
          "output_type": "execute_result",
          "data": {
            "text/plain": [
              "36.0"
            ]
          },
          "metadata": {},
          "execution_count": 12
        }
      ]
    },
    {
      "cell_type": "code",
      "source": [
        "# to calculalte inverse\n",
        "np.linalg.inv(output)\n"
      ],
      "metadata": {
        "colab": {
          "base_uri": "https://localhost:8080/"
        },
        "id": "niLfWL_yzm32",
        "outputId": "d510c787-f653-43ad-f892-7f95d81b19dc"
      },
      "execution_count": null,
      "outputs": [
        {
          "output_type": "execute_result",
          "data": {
            "text/plain": [
              "array([[ 4.27777778, -1.77777778],\n",
              "       [-3.86111111,  1.61111111]])"
            ]
          },
          "metadata": {},
          "execution_count": 14
        }
      ]
    },
    {
      "cell_type": "markdown",
      "source": [
        "# The axis argument in numpy: 2D axis=0 is column-wise and axis=1 means row-wise"
      ],
      "metadata": {
        "id": "aVvPYB9U0rbQ"
      }
    },
    {
      "cell_type": "code",
      "source": [
        "x = np.array([[1,2,3],[4,5,6]])\n",
        "x"
      ],
      "metadata": {
        "colab": {
          "base_uri": "https://localhost:8080/"
        },
        "id": "5VoYEEb60rB9",
        "outputId": "e2104cc7-b527-445b-f2e6-753932dc0b27"
      },
      "execution_count": null,
      "outputs": [
        {
          "output_type": "execute_result",
          "data": {
            "text/plain": [
              "array([[1, 2, 3],\n",
              "       [4, 5, 6]])"
            ]
          },
          "metadata": {},
          "execution_count": 17
        }
      ]
    },
    {
      "cell_type": "code",
      "source": [
        "# we want total sum of each item in an array\n",
        "x.sum(x)"
      ],
      "metadata": {
        "colab": {
          "base_uri": "https://localhost:8080/"
        },
        "id": "fxUOrEYh0pma",
        "outputId": "eb743ec6-46c4-4c90-a12e-8ab1a8e18408"
      },
      "execution_count": null,
      "outputs": [
        {
          "output_type": "execute_result",
          "data": {
            "text/plain": [
              "21"
            ]
          },
          "metadata": {},
          "execution_count": 19
        }
      ]
    },
    {
      "cell_type": "code",
      "source": [
        "# vertically sum\n",
        "x.sum(axis=0)"
      ],
      "metadata": {
        "colab": {
          "base_uri": "https://localhost:8080/"
        },
        "id": "x-GmyKTt1N-S",
        "outputId": "d59383d0-6993-48ef-9d77-4b26f0183185"
      },
      "execution_count": null,
      "outputs": [
        {
          "output_type": "execute_result",
          "data": {
            "text/plain": [
              "array([5, 7, 9])"
            ]
          },
          "metadata": {},
          "execution_count": 20
        }
      ]
    },
    {
      "cell_type": "code",
      "source": [
        "# horizontally sum\n",
        "x.sum(axis=1)"
      ],
      "metadata": {
        "colab": {
          "base_uri": "https://localhost:8080/"
        },
        "id": "uctwTXUM1nGA",
        "outputId": "00aa5cdc-71ee-465e-91a6-53928c7ade10"
      },
      "execution_count": null,
      "outputs": [
        {
          "output_type": "execute_result",
          "data": {
            "text/plain": [
              "array([ 6, 15])"
            ]
          },
          "metadata": {},
          "execution_count": 21
        }
      ]
    },
    {
      "cell_type": "code",
      "source": [
        "# to find out veertically mean\n",
        "x.mean(axis=0)"
      ],
      "metadata": {
        "colab": {
          "base_uri": "https://localhost:8080/"
        },
        "id": "RQBeUqmh1wbI",
        "outputId": "5096d0d0-dab8-42a3-f380-8311ff08c38e"
      },
      "execution_count": null,
      "outputs": [
        {
          "output_type": "execute_result",
          "data": {
            "text/plain": [
              "array([2.5, 3.5, 4.5])"
            ]
          },
          "metadata": {},
          "execution_count": 22
        }
      ]
    },
    {
      "cell_type": "code",
      "source": [
        "# To find out horizontally mean\n",
        "x.mean(axis=1)"
      ],
      "metadata": {
        "colab": {
          "base_uri": "https://localhost:8080/"
        },
        "id": "ck6JDH-I17Qv",
        "outputId": "f82b4a9e-e50e-42ef-b00a-43d90fb28277"
      },
      "execution_count": null,
      "outputs": [
        {
          "output_type": "execute_result",
          "data": {
            "text/plain": [
              "array([2., 5.])"
            ]
          },
          "metadata": {},
          "execution_count": 23
        }
      ]
    },
    {
      "cell_type": "markdown",
      "source": [
        "# .reshape():\n",
        "  To change/convert one dimension to another dimension. it is used to change the shape."
      ],
      "metadata": {
        "id": "Qslx1upN2knw"
      }
    },
    {
      "cell_type": "code",
      "source": [
        "x=np.array([1,2,3,4,5,6])\n",
        "x"
      ],
      "metadata": {
        "colab": {
          "base_uri": "https://localhost:8080/"
        },
        "id": "YZ21SBno2O-0",
        "outputId": "c2be44d0-e436-4fa1-c174-0fc478812b0d"
      },
      "execution_count": null,
      "outputs": [
        {
          "output_type": "execute_result",
          "data": {
            "text/plain": [
              "array([1, 2, 3, 4, 5, 6])"
            ]
          },
          "metadata": {},
          "execution_count": 24
        }
      ]
    },
    {
      "cell_type": "code",
      "source": [
        "x.shape"
      ],
      "metadata": {
        "colab": {
          "base_uri": "https://localhost:8080/"
        },
        "id": "BF74fsDC2vxU",
        "outputId": "4d422d63-1bd2-4274-9733-8dd8e6fa802a"
      },
      "execution_count": null,
      "outputs": [
        {
          "output_type": "execute_result",
          "data": {
            "text/plain": [
              "(6,)"
            ]
          },
          "metadata": {},
          "execution_count": 25
        }
      ]
    },
    {
      "cell_type": "code",
      "source": [
        "x.ndim"
      ],
      "metadata": {
        "colab": {
          "base_uri": "https://localhost:8080/"
        },
        "id": "NrqLvX1Y2xY5",
        "outputId": "03de00a9-8b03-44ac-e48a-6c172cddaecb"
      },
      "execution_count": null,
      "outputs": [
        {
          "output_type": "execute_result",
          "data": {
            "text/plain": [
              "1"
            ]
          },
          "metadata": {},
          "execution_count": 26
        }
      ]
    },
    {
      "cell_type": "code",
      "source": [
        "# to convert x to matrix\n",
        "x.reshape(2,3)"
      ],
      "metadata": {
        "colab": {
          "base_uri": "https://localhost:8080/"
        },
        "id": "baiYbe2o21Rw",
        "outputId": "0a1f755e-1357-4519-beb7-9d69de29bbbd"
      },
      "execution_count": null,
      "outputs": [
        {
          "output_type": "execute_result",
          "data": {
            "text/plain": [
              "array([[1, 2, 3],\n",
              "       [4, 5, 6]])"
            ]
          },
          "metadata": {},
          "execution_count": 27
        }
      ]
    },
    {
      "cell_type": "code",
      "source": [
        "x.reshape(3,2)"
      ],
      "metadata": {
        "colab": {
          "base_uri": "https://localhost:8080/"
        },
        "id": "VI9HPv8S3FQA",
        "outputId": "b8ee9682-e3c4-4009-cab7-c8fc4c487151"
      },
      "execution_count": null,
      "outputs": [
        {
          "output_type": "execute_result",
          "data": {
            "text/plain": [
              "array([[1, 2],\n",
              "       [3, 4],\n",
              "       [5, 6]])"
            ]
          },
          "metadata": {},
          "execution_count": 28
        }
      ]
    },
    {
      "cell_type": "code",
      "source": [
        "x.reshape(6,1)"
      ],
      "metadata": {
        "colab": {
          "base_uri": "https://localhost:8080/"
        },
        "id": "yHxzgjoY3U_9",
        "outputId": "e5899143-05d8-46f6-ab70-1524918def74"
      },
      "execution_count": null,
      "outputs": [
        {
          "output_type": "execute_result",
          "data": {
            "text/plain": [
              "array([[1],\n",
              "       [2],\n",
              "       [3],\n",
              "       [4],\n",
              "       [5],\n",
              "       [6]])"
            ]
          },
          "metadata": {},
          "execution_count": 30
        }
      ]
    },
    {
      "cell_type": "code",
      "source": [
        "x.reshape(1,6)"
      ],
      "metadata": {
        "colab": {
          "base_uri": "https://localhost:8080/"
        },
        "id": "99kUm5iK3dCD",
        "outputId": "2f00913f-13c6-4e81-ffeb-03f900f0a095"
      },
      "execution_count": null,
      "outputs": [
        {
          "output_type": "execute_result",
          "data": {
            "text/plain": [
              "array([[1, 2, 3, 4, 5, 6]])"
            ]
          },
          "metadata": {},
          "execution_count": 33
        }
      ]
    },
    {
      "cell_type": "markdown",
      "source": [
        "# Row matrix and Column matrix:\n",
        "<img src=\"https://d20khd7ddkh5ls.cloudfront.net/row_column_matrices.jpg\">"
      ],
      "metadata": {
        "id": "juqvCIW-4Fv9"
      }
    },
    {
      "cell_type": "code",
      "source": [
        "x=np.array([8,2,0,3,5,9])"
      ],
      "metadata": {
        "id": "wWhzNCNt3lyd"
      },
      "execution_count": null,
      "outputs": []
    },
    {
      "cell_type": "code",
      "source": [
        "# Row matrix: in this number of row 1 hunxa and comumn unkown hunxa. unkown lai =1 le represent garne\n",
        "x.reshape(1, -1)"
      ],
      "metadata": {
        "colab": {
          "base_uri": "https://localhost:8080/"
        },
        "id": "emHPzBlh46Zy",
        "outputId": "b2488693-2b4b-4ddf-90a6-db1528be59a1"
      },
      "execution_count": null,
      "outputs": [
        {
          "output_type": "execute_result",
          "data": {
            "text/plain": [
              "array([[8, 2, 0, 3, 5, 9]])"
            ]
          },
          "metadata": {},
          "execution_count": 36
        }
      ]
    },
    {
      "cell_type": "code",
      "source": [
        "# column matrix : number of row unkown hunxa and column 1 hunxa . unkown lai chahi -1 le represent garinxa\n",
        "x.reshape(-1,1)"
      ],
      "metadata": {
        "colab": {
          "base_uri": "https://localhost:8080/"
        },
        "id": "OFLV_Pz-5ZB0",
        "outputId": "fa3a6bdb-e53f-4d98-d049-31087c74f6be"
      },
      "execution_count": null,
      "outputs": [
        {
          "output_type": "execute_result",
          "data": {
            "text/plain": [
              "array([[8],\n",
              "       [2],\n",
              "       [0],\n",
              "       [3],\n",
              "       [5],\n",
              "       [9]])"
            ]
          },
          "metadata": {},
          "execution_count": 37
        }
      ]
    },
    {
      "cell_type": "markdown",
      "source": [
        "# Converting 2D array to 1D"
      ],
      "metadata": {
        "id": "WSebFbFN6hjo"
      }
    },
    {
      "cell_type": "code",
      "source": [
        "matrix= np.array([[2,6],[8,9]])\n",
        "matrix"
      ],
      "metadata": {
        "colab": {
          "base_uri": "https://localhost:8080/"
        },
        "id": "uXMXDv7p5sLH",
        "outputId": "22962ee5-2862-4813-ff90-3d6d73c57a16"
      },
      "execution_count": null,
      "outputs": [
        {
          "output_type": "execute_result",
          "data": {
            "text/plain": [
              "array([[2, 6],\n",
              "       [8, 9]])"
            ]
          },
          "metadata": {},
          "execution_count": 38
        }
      ]
    },
    {
      "cell_type": "code",
      "source": [
        "# code to converting 2d to 1d\n",
        "flat_array = matrix.flatten() # deep learning and data cleaning ma use hunxa flatten\n",
        "flat_array"
      ],
      "metadata": {
        "colab": {
          "base_uri": "https://localhost:8080/"
        },
        "id": "Hl9bucWx6xBq",
        "outputId": "8f5b1fa0-4e39-4e1f-d11f-68933bf2bb14"
      },
      "execution_count": null,
      "outputs": [
        {
          "output_type": "execute_result",
          "data": {
            "text/plain": [
              "array([2, 6, 8, 9])"
            ]
          },
          "metadata": {},
          "execution_count": 39
        }
      ]
    },
    {
      "cell_type": "code",
      "source": [
        "flat_array.ndim"
      ],
      "metadata": {
        "colab": {
          "base_uri": "https://localhost:8080/"
        },
        "id": "pDqHkdID7FC1",
        "outputId": "ef2ea8c6-9a17-4489-9af3-652f81c6ac9b"
      },
      "execution_count": null,
      "outputs": [
        {
          "output_type": "execute_result",
          "data": {
            "text/plain": [
              "1"
            ]
          },
          "metadata": {},
          "execution_count": 40
        }
      ]
    },
    {
      "cell_type": "code",
      "source": [
        "# to convert array into python list\n",
        "flat_array.tolist()"
      ],
      "metadata": {
        "colab": {
          "base_uri": "https://localhost:8080/"
        },
        "id": "xDUoJjHq7Hv5",
        "outputId": "dbcf9a9a-f6a0-43fa-b8b8-3a59000f5af6"
      },
      "execution_count": null,
      "outputs": [
        {
          "output_type": "execute_result",
          "data": {
            "text/plain": [
              "[2, 6, 8, 9]"
            ]
          },
          "metadata": {},
          "execution_count": 41
        }
      ]
    },
    {
      "cell_type": "markdown",
      "source": [
        "# Morden day images are in 3D:\n",
        "`\n",
        "(row,column,channel)`"
      ],
      "metadata": {
        "id": "419ijbvS7_XF"
      }
    },
    {
      "cell_type": "code",
      "source": [
        "np.zeros((2,3,4)) # simply means 2 sets 3 rows per set 3 colums"
      ],
      "metadata": {
        "colab": {
          "base_uri": "https://localhost:8080/"
        },
        "id": "Zwy-RTKT9l3c",
        "outputId": "390e2b85-bba7-48cb-dfe1-a55b4d500622"
      },
      "execution_count": null,
      "outputs": [
        {
          "output_type": "execute_result",
          "data": {
            "text/plain": [
              "array([[[0., 0., 0., 0.],\n",
              "        [0., 0., 0., 0.],\n",
              "        [0., 0., 0., 0.]],\n",
              "\n",
              "       [[0., 0., 0., 0.],\n",
              "        [0., 0., 0., 0.],\n",
              "        [0., 0., 0., 0.]]])"
            ]
          },
          "metadata": {},
          "execution_count": 45
        }
      ]
    },
    {
      "cell_type": "code",
      "source": [
        "np.random.rand(3,4,5)"
      ],
      "metadata": {
        "colab": {
          "base_uri": "https://localhost:8080/"
        },
        "id": "Eb4frJCp7hle",
        "outputId": "264b5e44-485a-4e61-ca59-f870fa297079"
      },
      "execution_count": null,
      "outputs": [
        {
          "output_type": "execute_result",
          "data": {
            "text/plain": [
              "array([[[2.41640104e-01, 8.63358819e-01, 5.86592042e-01, 5.09138579e-01,\n",
              "         7.26187632e-01],\n",
              "        [5.66765235e-01, 7.83635046e-01, 4.57058912e-02, 5.29841654e-01,\n",
              "         6.81998668e-01],\n",
              "        [3.38514640e-01, 5.13304623e-01, 2.09138942e-01, 3.83381287e-01,\n",
              "         6.97976826e-01],\n",
              "        [2.96612686e-01, 8.56060767e-01, 3.90711755e-02, 7.90055354e-01,\n",
              "         6.26183019e-01]],\n",
              "\n",
              "       [[4.67872730e-01, 5.71094526e-02, 7.16731747e-01, 1.19165285e-01,\n",
              "         9.97071555e-01],\n",
              "        [5.46604106e-01, 5.82143489e-01, 1.25566585e-01, 2.02183169e-01,\n",
              "         9.11616533e-01],\n",
              "        [2.25426136e-01, 3.94857279e-01, 5.17411074e-01, 2.45237402e-01,\n",
              "         5.38893373e-01],\n",
              "        [3.04421223e-01, 5.84882620e-01, 7.06885407e-05, 6.57869350e-01,\n",
              "         7.21679999e-01]],\n",
              "\n",
              "       [[6.41016649e-01, 9.03143223e-01, 7.55657970e-01, 8.53833303e-01,\n",
              "         7.62829885e-01],\n",
              "        [4.13613885e-01, 7.35251779e-01, 4.63614331e-01, 4.00560768e-01,\n",
              "         2.74768051e-01],\n",
              "        [7.46392340e-01, 2.77708316e-01, 1.79225518e-01, 4.59261585e-02,\n",
              "         4.74216241e-01],\n",
              "        [1.05489482e-01, 1.83159857e-01, 6.87084389e-01, 2.02804566e-01,\n",
              "         7.24596303e-01]]])"
            ]
          },
          "metadata": {},
          "execution_count": 42
        }
      ]
    },
    {
      "cell_type": "code",
      "source": [
        "# in 1D:\n"
      ],
      "metadata": {
        "id": "vi-4WUIj9J1V"
      },
      "execution_count": null,
      "outputs": []
    },
    {
      "cell_type": "code",
      "source": [
        "#"
      ],
      "metadata": {
        "id": "VL2yMOp09ftj"
      },
      "execution_count": null,
      "outputs": []
    }
  ]
}