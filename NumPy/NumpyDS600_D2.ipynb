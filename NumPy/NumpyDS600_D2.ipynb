{
  "nbformat": 4,
  "nbformat_minor": 0,
  "metadata": {
    "colab": {
      "provenance": []
    },
    "kernelspec": {
      "name": "python3",
      "display_name": "Python 3"
    },
    "language_info": {
      "name": "python"
    }
  },
  "cells": [
    {
      "cell_type": "markdown",
      "source": [
        "# sort and concat"
      ],
      "metadata": {
        "id": "4n13ZvzXouh4"
      }
    },
    {
      "cell_type": "code",
      "source": [
        "import numpy as np"
      ],
      "metadata": {
        "id": "B0_Lb7WFozIV"
      },
      "execution_count": 5,
      "outputs": []
    },
    {
      "cell_type": "markdown",
      "source": [
        "* Sort :\n",
        "    To make in order of onordered list/data."
      ],
      "metadata": {
        "id": "6JW9VYhVpqRa"
      }
    },
    {
      "cell_type": "code",
      "source": [
        "x = np.array([9, 0.2, -1, 0, -7, 6, 4, -5])"
      ],
      "metadata": {
        "id": "4zELT0jno2mD"
      },
      "execution_count": null,
      "outputs": []
    },
    {
      "cell_type": "code",
      "source": [
        "np.sort(x) # acending order"
      ],
      "metadata": {
        "colab": {
          "base_uri": "https://localhost:8080/"
        },
        "id": "kW_wdEMxpKDY",
        "outputId": "20181334-1b98-4c68-ecb3-f52b94a2bae2"
      },
      "execution_count": null,
      "outputs": [
        {
          "output_type": "execute_result",
          "data": {
            "text/plain": [
              "array([-7. , -5. , -1. ,  0. ,  0.2,  4. ,  6. ,  9. ])"
            ]
          },
          "metadata": {},
          "execution_count": 4
        }
      ]
    },
    {
      "cell_type": "code",
      "source": [
        "np.flip(np.sort(x)) # descending order; if you flip ascending order it becomes descending"
      ],
      "metadata": {
        "colab": {
          "base_uri": "https://localhost:8080/"
        },
        "id": "7EJ-0OfypTNd",
        "outputId": "31202f1c-2423-41d7-bb54-84180ec30ca8"
      },
      "execution_count": null,
      "outputs": [
        {
          "output_type": "execute_result",
          "data": {
            "text/plain": [
              "array([ 9. ,  6. ,  4. ,  0.2,  0. , -1. , -5. , -7. ])"
            ]
          },
          "metadata": {},
          "execution_count": 5
        }
      ]
    },
    {
      "cell_type": "markdown",
      "source": [
        "* Concat"
      ],
      "metadata": {
        "id": "UMpFOpL1pw-Y"
      }
    },
    {
      "cell_type": "code",
      "source": [
        "# in list\n",
        "a = [4, 8]\n",
        "b= [3, 6, 9]\n",
        "a + b # list concat"
      ],
      "metadata": {
        "colab": {
          "base_uri": "https://localhost:8080/"
        },
        "id": "hj_iTVUtp1YU",
        "outputId": "831a8560-eca5-4787-826e-db9ee9418c64"
      },
      "execution_count": null,
      "outputs": [
        {
          "output_type": "execute_result",
          "data": {
            "text/plain": [
              "[4, 8, 3, 6, 9]"
            ]
          },
          "metadata": {},
          "execution_count": 6
        }
      ]
    },
    {
      "cell_type": "code",
      "source": [
        "# in array\n",
        "a = np.array([4, 8])\n",
        "b =np.array([3, 6, 9])"
      ],
      "metadata": {
        "id": "xZ8dld1XqETl"
      },
      "execution_count": null,
      "outputs": []
    },
    {
      "cell_type": "code",
      "source": [
        "# a + b  \"+ operator le concatinae hudaina array ma\""
      ],
      "metadata": {
        "id": "N9VQqiEnqceC"
      },
      "execution_count": null,
      "outputs": []
    },
    {
      "cell_type": "code",
      "source": [
        "np.concatenate([a,b])"
      ],
      "metadata": {
        "colab": {
          "base_uri": "https://localhost:8080/"
        },
        "id": "XZzbWYYlqmZB",
        "outputId": "8864be8b-1459-48e0-b396-54aac1ae4739"
      },
      "execution_count": null,
      "outputs": [
        {
          "output_type": "execute_result",
          "data": {
            "text/plain": [
              "array([4, 8, 3, 6, 9])"
            ]
          },
          "metadata": {},
          "execution_count": 11
        }
      ]
    },
    {
      "cell_type": "markdown",
      "source": [
        "# vector operation and broadcasting"
      ],
      "metadata": {
        "id": "VQTBgtBCqwv1"
      }
    },
    {
      "cell_type": "markdown",
      "source": [
        "* vector operation:\n",
        "        vector operations focus on element-wise operations between arrays of the same shape."
      ],
      "metadata": {
        "id": "UMXG3hCQsKaR"
      }
    },
    {
      "cell_type": "code",
      "source": [
        "x = np.array([8, 4, 2])\n",
        "y = np.array([2, 4, 2])\n",
        "x + y"
      ],
      "metadata": {
        "colab": {
          "base_uri": "https://localhost:8080/"
        },
        "id": "XHCFDtVnq2es",
        "outputId": "e654246a-6afd-4647-e3d2-cdbbbe39751a"
      },
      "execution_count": null,
      "outputs": [
        {
          "output_type": "execute_result",
          "data": {
            "text/plain": [
              "array([10,  8,  4])"
            ]
          },
          "metadata": {},
          "execution_count": 12
        }
      ]
    },
    {
      "cell_type": "code",
      "source": [
        "x - y"
      ],
      "metadata": {
        "colab": {
          "base_uri": "https://localhost:8080/"
        },
        "id": "7gLfCY1yrGRc",
        "outputId": "c1ceeff6-c3a6-46b0-a13c-3ffcc4dee17a"
      },
      "execution_count": null,
      "outputs": [
        {
          "output_type": "execute_result",
          "data": {
            "text/plain": [
              "array([6, 0, 0])"
            ]
          },
          "metadata": {},
          "execution_count": 13
        }
      ]
    },
    {
      "cell_type": "code",
      "source": [
        "x / y"
      ],
      "metadata": {
        "colab": {
          "base_uri": "https://localhost:8080/"
        },
        "id": "m6llLYUWrxq4",
        "outputId": "c955d930-810d-4c0e-9f86-192fc727a57a"
      },
      "execution_count": null,
      "outputs": [
        {
          "output_type": "execute_result",
          "data": {
            "text/plain": [
              "array([4., 1., 1.])"
            ]
          },
          "metadata": {},
          "execution_count": 14
        }
      ]
    },
    {
      "cell_type": "code",
      "source": [
        "x * y"
      ],
      "metadata": {
        "colab": {
          "base_uri": "https://localhost:8080/"
        },
        "id": "AHf2Qurar0lR",
        "outputId": "9e6fabed-a0a0-418b-b719-5885a7b5c620"
      },
      "execution_count": null,
      "outputs": [
        {
          "output_type": "execute_result",
          "data": {
            "text/plain": [
              "array([16, 16,  4])"
            ]
          },
          "metadata": {},
          "execution_count": 15
        }
      ]
    },
    {
      "cell_type": "code",
      "source": [
        "x ** y"
      ],
      "metadata": {
        "colab": {
          "base_uri": "https://localhost:8080/"
        },
        "id": "uXm3IQGUsDjX",
        "outputId": "a57e7530-79a4-4597-fbd0-11fb53e8f10a"
      },
      "execution_count": null,
      "outputs": [
        {
          "output_type": "execute_result",
          "data": {
            "text/plain": [
              "array([ 64, 256,   4])"
            ]
          },
          "metadata": {},
          "execution_count": 16
        }
      ]
    },
    {
      "cell_type": "markdown",
      "source": [
        "* vector broadcasting:\n",
        "         Vector broadcasting is a feature in Numpy that allows you to perform operations between arrays of different shape. It allows you to perform operations betweenarrays of diffrent shpaes by automatically adjusting the dimensions of the smaller array to make the operation valid."
      ],
      "metadata": {
        "id": "25ubxuIPsTAZ"
      }
    },
    {
      "cell_type": "code",
      "source": [
        "a = np.array([8,9,6,1]) # vector broadcasting is used in brigthness"
      ],
      "metadata": {
        "id": "jCqvSR62seeC"
      },
      "execution_count": null,
      "outputs": []
    },
    {
      "cell_type": "code",
      "source": [
        "2 * a"
      ],
      "metadata": {
        "colab": {
          "base_uri": "https://localhost:8080/"
        },
        "id": "PIFdvCa7sqcL",
        "outputId": "04f9f777-7d2c-4ef0-fac4-46c318c3a126"
      },
      "execution_count": null,
      "outputs": [
        {
          "output_type": "execute_result",
          "data": {
            "text/plain": [
              "array([16, 18, 12,  2])"
            ]
          },
          "metadata": {},
          "execution_count": 18
        }
      ]
    },
    {
      "cell_type": "code",
      "source": [
        "3 + a"
      ],
      "metadata": {
        "colab": {
          "base_uri": "https://localhost:8080/"
        },
        "id": "Qqeik7MTstgH",
        "outputId": "d1027f90-e6e4-4591-cc8c-d2b58ef53d14"
      },
      "execution_count": null,
      "outputs": [
        {
          "output_type": "execute_result",
          "data": {
            "text/plain": [
              "array([11, 12,  9,  4])"
            ]
          },
          "metadata": {},
          "execution_count": 19
        }
      ]
    },
    {
      "cell_type": "code",
      "source": [
        "# lets operate the operation between different shapes array\n",
        "a=np.array([[1,2,3],[4,5,6]])\n",
        "b=np.array([10,20,30])          #Broadcasting: b is automatically expanded to match the shape of a\n",
        "c= a+b\n",
        "c"
      ],
      "metadata": {
        "colab": {
          "base_uri": "https://localhost:8080/"
        },
        "id": "bwhz2QU-UZE8",
        "outputId": "c679e564-9f05-44f0-a2a8-74d9a03a55aa"
      },
      "execution_count": 7,
      "outputs": [
        {
          "output_type": "execute_result",
          "data": {
            "text/plain": [
              "array([[11, 22, 33],\n",
              "       [14, 25, 36]])"
            ]
          },
          "metadata": {},
          "execution_count": 7
        }
      ]
    },
    {
      "cell_type": "markdown",
      "source": [
        "# Statistics using Numpy"
      ],
      "metadata": {
        "id": "i_DXjLWktHlJ"
      }
    },
    {
      "cell_type": "code",
      "source": [
        "np.random.seed(0)\n",
        "data=np.random.randint(1,50,5)\n",
        "data"
      ],
      "metadata": {
        "colab": {
          "base_uri": "https://localhost:8080/"
        },
        "id": "-OGpTfZrtNz1",
        "outputId": "c32611b8-800b-4b76-a248-2ce1738d48b4"
      },
      "execution_count": null,
      "outputs": [
        {
          "output_type": "execute_result",
          "data": {
            "text/plain": [
              "array([45, 48,  1,  4,  4])"
            ]
          },
          "metadata": {},
          "execution_count": 21
        }
      ]
    },
    {
      "cell_type": "code",
      "source": [
        "# to calculate the mean of data\n",
        "np.mean(data)"
      ],
      "metadata": {
        "colab": {
          "base_uri": "https://localhost:8080/"
        },
        "id": "w0nPCtCctVzQ",
        "outputId": "ad547c02-ac5c-43c1-ecd2-42167728ff67"
      },
      "execution_count": null,
      "outputs": [
        {
          "output_type": "execute_result",
          "data": {
            "text/plain": [
              "20.4"
            ]
          },
          "metadata": {},
          "execution_count": 22
        }
      ]
    },
    {
      "cell_type": "code",
      "source": [
        "# to calculate median\n",
        "np.median(data)"
      ],
      "metadata": {
        "colab": {
          "base_uri": "https://localhost:8080/"
        },
        "id": "WVVwBGW7tiff",
        "outputId": "423fb4fc-0a48-4a48-b899-75f85094a804"
      },
      "execution_count": null,
      "outputs": [
        {
          "output_type": "execute_result",
          "data": {
            "text/plain": [
              "4.0"
            ]
          },
          "metadata": {},
          "execution_count": 23
        }
      ]
    },
    {
      "cell_type": "code",
      "source": [
        "# to calculate mode we need to import scipy\n",
        "from scipy.stats import mode\n",
        "mode(data) # mode 4 ho and frequency or count 2 ho"
      ],
      "metadata": {
        "colab": {
          "base_uri": "https://localhost:8080/"
        },
        "id": "Wr6hnxoItn9j",
        "outputId": "c29feb13-7fe2-4996-e698-af8339feb40d"
      },
      "execution_count": null,
      "outputs": [
        {
          "output_type": "execute_result",
          "data": {
            "text/plain": [
              "ModeResult(mode=4, count=2)"
            ]
          },
          "metadata": {},
          "execution_count": 24
        }
      ]
    },
    {
      "cell_type": "code",
      "source": [
        "# to calculate standard deviation\n",
        "np.std(data)"
      ],
      "metadata": {
        "colab": {
          "base_uri": "https://localhost:8080/"
        },
        "id": "Cd1lnrRtuAh5",
        "outputId": "0b3905ee-c79a-4bd8-ab40-95e080d59404"
      },
      "execution_count": null,
      "outputs": [
        {
          "output_type": "execute_result",
          "data": {
            "text/plain": [
              "21.35977527971678"
            ]
          },
          "metadata": {},
          "execution_count": 25
        }
      ]
    },
    {
      "cell_type": "code",
      "source": [
        "# to calculate variance\n",
        "np.var(data)"
      ],
      "metadata": {
        "colab": {
          "base_uri": "https://localhost:8080/"
        },
        "id": "ep0Y4rHAuNKK",
        "outputId": "a13a6f2d-b5e0-4e9f-e53d-995365317fa6"
      },
      "execution_count": null,
      "outputs": [
        {
          "output_type": "execute_result",
          "data": {
            "text/plain": [
              "456.23999999999995"
            ]
          },
          "metadata": {},
          "execution_count": 26
        }
      ]
    },
    {
      "cell_type": "code",
      "source": [
        "# to calculate minimum value\n",
        "np.min(data)"
      ],
      "metadata": {
        "colab": {
          "base_uri": "https://localhost:8080/"
        },
        "id": "08N3CkIEuaCv",
        "outputId": "27cb54aa-aaf0-4475-86c8-97ad7381c265"
      },
      "execution_count": null,
      "outputs": [
        {
          "output_type": "execute_result",
          "data": {
            "text/plain": [
              "1"
            ]
          },
          "metadata": {},
          "execution_count": 27
        }
      ]
    },
    {
      "cell_type": "code",
      "source": [
        "# to caltulate maximum value\n",
        "np.max(data)"
      ],
      "metadata": {
        "colab": {
          "base_uri": "https://localhost:8080/"
        },
        "id": "qACmLHKeumiq",
        "outputId": "089ad0c5-d2af-4563-e6c7-a5d1d7b6ebca"
      },
      "execution_count": null,
      "outputs": [
        {
          "output_type": "execute_result",
          "data": {
            "text/plain": [
              "48"
            ]
          },
          "metadata": {},
          "execution_count": 28
        }
      ]
    },
    {
      "cell_type": "code",
      "source": [
        "# to  calculate range\n",
        "range = np.max(data) - np.min(data)\n",
        "range"
      ],
      "metadata": {
        "colab": {
          "base_uri": "https://localhost:8080/"
        },
        "id": "OD6rcf_Tuqu8",
        "outputId": "c01b7dff-0dd9-45aa-df5f-8283b4c6f3f7"
      },
      "execution_count": null,
      "outputs": [
        {
          "output_type": "execute_result",
          "data": {
            "text/plain": [
              "47"
            ]
          },
          "metadata": {},
          "execution_count": 30
        }
      ]
    },
    {
      "cell_type": "code",
      "source": [
        "# to find out the index of 48 (maximum value)\n",
        "np.argmax(data) # arg tapepaxi chahin index herna mixa"
      ],
      "metadata": {
        "colab": {
          "base_uri": "https://localhost:8080/"
        },
        "id": "XVevAvZ-u180",
        "outputId": "a5ebefd1-df6a-4d77-9c21-86efe3e789b7"
      },
      "execution_count": null,
      "outputs": [
        {
          "output_type": "execute_result",
          "data": {
            "text/plain": [
              "1"
            ]
          },
          "metadata": {},
          "execution_count": 31
        }
      ]
    },
    {
      "cell_type": "code",
      "source": [
        "# to find out the index of 1 (minimum value)\n",
        "np.argmin(data)"
      ],
      "metadata": {
        "colab": {
          "base_uri": "https://localhost:8080/"
        },
        "id": "WSO2vy4bvRtN",
        "outputId": "6a7be148-77bc-4b48-d025-a2a6dd064a72"
      },
      "execution_count": null,
      "outputs": [
        {
          "output_type": "execute_result",
          "data": {
            "text/plain": [
              "2"
            ]
          },
          "metadata": {},
          "execution_count": 32
        }
      ]
    },
    {
      "cell_type": "markdown",
      "source": [
        "# .any() vs .all()"
      ],
      "metadata": {
        "id": "10I1tM6Ev5Dw"
      }
    },
    {
      "cell_type": "code",
      "source": [
        "height = np.array([1,2,3,4,5,6,6,5,4,3,2,1])"
      ],
      "metadata": {
        "id": "Ib1VRqmpv9Tm"
      },
      "execution_count": null,
      "outputs": []
    },
    {
      "cell_type": "code",
      "source": [
        "height>=5 # this condition is boradcast"
      ],
      "metadata": {
        "colab": {
          "base_uri": "https://localhost:8080/"
        },
        "id": "87YxitjhwHAm",
        "outputId": "9415e92b-9500-46f9-a856-99fa00277b96"
      },
      "execution_count": null,
      "outputs": [
        {
          "output_type": "execute_result",
          "data": {
            "text/plain": [
              "array([False, False, False, False,  True,  True,  True,  True, False,\n",
              "       False, False, False])"
            ]
          },
          "metadata": {},
          "execution_count": 37
        }
      ]
    },
    {
      "cell_type": "code",
      "source": [
        "np.any(height>=5) # is there any person with hieght >= 5 ?"
      ],
      "metadata": {
        "colab": {
          "base_uri": "https://localhost:8080/"
        },
        "id": "KWSrcsQnwb8x",
        "outputId": "57c415f4-34f0-4c19-c054-19e225f1c63d"
      },
      "execution_count": null,
      "outputs": [
        {
          "output_type": "execute_result",
          "data": {
            "text/plain": [
              "True"
            ]
          },
          "metadata": {},
          "execution_count": 38
        }
      ]
    },
    {
      "cell_type": "code",
      "source": [
        "np.all(height>=5)"
      ],
      "metadata": {
        "colab": {
          "base_uri": "https://localhost:8080/"
        },
        "id": "crSIyD1rw4aG",
        "outputId": "7cc5039c-c9ed-4ac6-8ff6-7dd8d340d63b"
      },
      "execution_count": null,
      "outputs": [
        {
          "output_type": "execute_result",
          "data": {
            "text/plain": [
              "False"
            ]
          },
          "metadata": {},
          "execution_count": 39
        }
      ]
    },
    {
      "cell_type": "code",
      "source": [
        "np.all(height>=1)"
      ],
      "metadata": {
        "colab": {
          "base_uri": "https://localhost:8080/"
        },
        "id": "0K5_sdaCxOsz",
        "outputId": "da93f5da-a259-4ca1-9af7-a1eb4ae6d984"
      },
      "execution_count": null,
      "outputs": [
        {
          "output_type": "execute_result",
          "data": {
            "text/plain": [
              "True"
            ]
          },
          "metadata": {},
          "execution_count": 40
        }
      ]
    },
    {
      "cell_type": "code",
      "source": [
        "height[height>=5] # to find out exact number of person with 5 foot height"
      ],
      "metadata": {
        "colab": {
          "base_uri": "https://localhost:8080/"
        },
        "id": "AkdLaylwxVsZ",
        "outputId": "136ec0ee-9e2b-46ce-820d-1e3742314b47"
      },
      "execution_count": null,
      "outputs": [
        {
          "output_type": "execute_result",
          "data": {
            "text/plain": [
              "array([5, 6, 6, 5])"
            ]
          },
          "metadata": {},
          "execution_count": 41
        }
      ]
    },
    {
      "cell_type": "code",
      "source": [
        "# to find out greater than 2 foot to less than 5 foot person\n",
        "height[height <2 and height > 5 ] # numpy array doesn't acept logical operator"
      ],
      "metadata": {
        "id": "fDtqT0DGx22c"
      },
      "execution_count": null,
      "outputs": []
    },
    {
      "cell_type": "code",
      "source": [
        "# instead of use bitwise operator\n",
        "[(height<3) & (height>5)] # bitwise operator and (&) ko side ko condition haru () backet vitra lekhnu parxa"
      ],
      "metadata": {
        "colab": {
          "base_uri": "https://localhost:8080/"
        },
        "id": "izcy39DjymiO",
        "outputId": "f1ec178a-732c-43a4-f109-8efe9d3a23c4"
      },
      "execution_count": null,
      "outputs": [
        {
          "output_type": "execute_result",
          "data": {
            "text/plain": [
              "[array([False, False, False, False, False, False, False, False, False,\n",
              "        False, False, False])]"
            ]
          },
          "metadata": {},
          "execution_count": 44
        }
      ]
    },
    {
      "cell_type": "code",
      "source": [
        "height[(height > 3) & (height < 5)]"
      ],
      "metadata": {
        "colab": {
          "base_uri": "https://localhost:8080/"
        },
        "id": "WGPKaPp9y7OH",
        "outputId": "1fe25325-86f0-4dcb-93f7-2aa9300a34e2"
      },
      "execution_count": null,
      "outputs": [
        {
          "output_type": "execute_result",
          "data": {
            "text/plain": [
              "array([4, 4])"
            ]
          },
          "metadata": {},
          "execution_count": 45
        }
      ]
    },
    {
      "cell_type": "markdown",
      "source": [
        "# Two dimensional array"
      ],
      "metadata": {
        "id": "Iq3tSfKmzp-B"
      }
    },
    {
      "cell_type": "code",
      "source": [
        "data = [ [1,2,3], [4,5,6], [7,8,9]] # it is list of list"
      ],
      "metadata": {
        "id": "j8NDl5QozxJC"
      },
      "execution_count": null,
      "outputs": []
    },
    {
      "cell_type": "code",
      "source": [
        "# converting to array\n",
        "matrix = np.array(data)\n",
        "matrix"
      ],
      "metadata": {
        "colab": {
          "base_uri": "https://localhost:8080/"
        },
        "id": "yVtyJDlr0DZ4",
        "outputId": "24057182-b89a-4f47-e338-57bdc63e48c3"
      },
      "execution_count": null,
      "outputs": [
        {
          "output_type": "execute_result",
          "data": {
            "text/plain": [
              "array([[1, 2, 3],\n",
              "       [4, 5, 6],\n",
              "       [7, 8, 9]])"
            ]
          },
          "metadata": {},
          "execution_count": 47
        }
      ]
    },
    {
      "cell_type": "code",
      "source": [
        "# to find shape\n",
        "matrix.shape # (no of rows and no of columns)"
      ],
      "metadata": {
        "colab": {
          "base_uri": "https://localhost:8080/"
        },
        "id": "FzQjVfTt0LNf",
        "outputId": "0df43771-0d11-4bf1-d14f-027c88219b99"
      },
      "execution_count": null,
      "outputs": [
        {
          "output_type": "execute_result",
          "data": {
            "text/plain": [
              "(3, 3)"
            ]
          },
          "metadata": {},
          "execution_count": 48
        }
      ]
    },
    {
      "cell_type": "code",
      "source": [
        "# to find out no of dimension\n",
        "\n",
        "matrix.ndim"
      ],
      "metadata": {
        "colab": {
          "base_uri": "https://localhost:8080/"
        },
        "id": "f5spxGeJ0cBl",
        "outputId": "8dab3593-f22a-48b0-f5a3-4857e26f65ce"
      },
      "execution_count": null,
      "outputs": [
        {
          "output_type": "execute_result",
          "data": {
            "text/plain": [
              "2"
            ]
          },
          "metadata": {},
          "execution_count": 49
        }
      ]
    },
    {
      "cell_type": "code",
      "source": [
        "matrix [0,1]"
      ],
      "metadata": {
        "colab": {
          "base_uri": "https://localhost:8080/"
        },
        "id": "RvVATjgg0Q3w",
        "outputId": "c9577d45-21a5-479f-aeb8-ad4968fcfa10"
      },
      "execution_count": null,
      "outputs": [
        {
          "output_type": "execute_result",
          "data": {
            "text/plain": [
              "2"
            ]
          },
          "metadata": {},
          "execution_count": 50
        }
      ]
    },
    {
      "cell_type": "code",
      "source": [
        "matrix [2,2]"
      ],
      "metadata": {
        "colab": {
          "base_uri": "https://localhost:8080/"
        },
        "id": "q88r-s1B1h9r",
        "outputId": "ff7d5261-5580-4871-b7f4-572bab2e69bd"
      },
      "execution_count": null,
      "outputs": [
        {
          "output_type": "execute_result",
          "data": {
            "text/plain": [
              "9"
            ]
          },
          "metadata": {},
          "execution_count": 51
        }
      ]
    },
    {
      "cell_type": "code",
      "source": [
        "matrix[1,2]"
      ],
      "metadata": {
        "colab": {
          "base_uri": "https://localhost:8080/"
        },
        "id": "oyhwrloa1l13",
        "outputId": "c68a6ff8-2b36-4163-8456-6c71bfe3c501"
      },
      "execution_count": null,
      "outputs": [
        {
          "output_type": "execute_result",
          "data": {
            "text/plain": [
              "6"
            ]
          },
          "metadata": {},
          "execution_count": 53
        }
      ]
    },
    {
      "cell_type": "code",
      "source": [
        "matrix [1, :] # slicing"
      ],
      "metadata": {
        "colab": {
          "base_uri": "https://localhost:8080/"
        },
        "id": "JdIJp4SN1qMB",
        "outputId": "d52fdc19-0dc6-4532-96ca-9f1ced949626"
      },
      "execution_count": null,
      "outputs": [
        {
          "output_type": "execute_result",
          "data": {
            "text/plain": [
              "array([4, 5, 6])"
            ]
          },
          "metadata": {},
          "execution_count": 54
        }
      ]
    },
    {
      "cell_type": "code",
      "source": [
        "matrix [2, :]"
      ],
      "metadata": {
        "colab": {
          "base_uri": "https://localhost:8080/"
        },
        "id": "q7F3e8_v2ORz",
        "outputId": "5d575b96-9d5c-438c-c97b-0bdb414f1366"
      },
      "execution_count": null,
      "outputs": [
        {
          "output_type": "execute_result",
          "data": {
            "text/plain": [
              "array([7, 8, 9])"
            ]
          },
          "metadata": {},
          "execution_count": 55
        }
      ]
    },
    {
      "cell_type": "code",
      "source": [
        "matrix [ :, 2]"
      ],
      "metadata": {
        "colab": {
          "base_uri": "https://localhost:8080/"
        },
        "id": "YP_BFm9F2JX8",
        "outputId": "64d86fba-6926-4227-d4bb-247f52d08312"
      },
      "execution_count": null,
      "outputs": [
        {
          "output_type": "execute_result",
          "data": {
            "text/plain": [
              "array([3, 6, 9])"
            ]
          },
          "metadata": {},
          "execution_count": 56
        }
      ]
    },
    {
      "cell_type": "code",
      "source": [
        "matrix [ : , 0]"
      ],
      "metadata": {
        "colab": {
          "base_uri": "https://localhost:8080/"
        },
        "id": "7flb-7iZ2WOT",
        "outputId": "ab4e0468-888e-4a86-8065-739cb64c34de"
      },
      "execution_count": null,
      "outputs": [
        {
          "output_type": "execute_result",
          "data": {
            "text/plain": [
              "array([1, 4, 7])"
            ]
          },
          "metadata": {},
          "execution_count": 57
        }
      ]
    },
    {
      "cell_type": "code",
      "source": [
        "matrix [:, 1]"
      ],
      "metadata": {
        "colab": {
          "base_uri": "https://localhost:8080/"
        },
        "id": "QoLOC4sh2fu2",
        "outputId": "2a9247d1-9791-40d6-9a96-fd083e74a004"
      },
      "execution_count": null,
      "outputs": [
        {
          "output_type": "execute_result",
          "data": {
            "text/plain": [
              "array([2, 5, 8])"
            ]
          },
          "metadata": {},
          "execution_count": 58
        }
      ]
    },
    {
      "cell_type": "code",
      "source": [
        "# to find out 5,6,8,9\n",
        "matrix[1 : , 1 :]"
      ],
      "metadata": {
        "colab": {
          "base_uri": "https://localhost:8080/"
        },
        "id": "SwlT9ZSL2h7D",
        "outputId": "64ada33c-16a6-45c0-95da-157743ef6fbd"
      },
      "execution_count": null,
      "outputs": [
        {
          "output_type": "execute_result",
          "data": {
            "text/plain": [
              "array([[5, 6],\n",
              "       [8, 9]])"
            ]
          },
          "metadata": {},
          "execution_count": 60
        }
      ]
    },
    {
      "cell_type": "code",
      "source": [
        "matrix[1: , :2]"
      ],
      "metadata": {
        "colab": {
          "base_uri": "https://localhost:8080/"
        },
        "id": "xaOojDh922aA",
        "outputId": "b75e8e2f-c9c5-4125-ad46-1be29906b81a"
      },
      "execution_count": null,
      "outputs": [
        {
          "output_type": "execute_result",
          "data": {
            "text/plain": [
              "array([[4, 5],\n",
              "       [7, 8]])"
            ]
          },
          "metadata": {},
          "execution_count": 65
        }
      ]
    },
    {
      "cell_type": "code",
      "source": [
        "matrix[]"
      ],
      "metadata": {
        "id": "I0z3xM3H3VRO"
      },
      "execution_count": null,
      "outputs": []
    },
    {
      "cell_type": "code",
      "source": [
        "import numpy as np"
      ],
      "metadata": {
        "id": "oxpLOKc33B3A"
      },
      "execution_count": 1,
      "outputs": []
    },
    {
      "cell_type": "code",
      "source": [],
      "metadata": {
        "id": "8dzlottRPY7F"
      },
      "execution_count": 4,
      "outputs": []
    },
    {
      "cell_type": "code",
      "source": [],
      "metadata": {
        "id": "l9jZzh7sPbzN"
      },
      "execution_count": null,
      "outputs": []
    }
  ]
}