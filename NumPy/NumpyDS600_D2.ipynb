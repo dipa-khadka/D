{
  "cells": [
    {
      "cell_type": "markdown",
      "metadata": {
        "id": "4n13ZvzXouh4"
      },
      "source": [
        "# sort and concat"
      ]
    },
    {
      "cell_type": "code",
      "execution_count": 1,
      "metadata": {
        "id": "B0_Lb7WFozIV"
      },
      "outputs": [],
      "source": [
        "import numpy as np"
      ]
    },
    {
      "cell_type": "markdown",
      "metadata": {
        "id": "6JW9VYhVpqRa"
      },
      "source": [
        "* Sort :\n",
        "    To make in order of onordered list/data."
      ]
    },
    {
      "cell_type": "code",
      "execution_count": 2,
      "metadata": {
        "id": "4zELT0jno2mD"
      },
      "outputs": [],
      "source": [
        "x = np.array([9, 0.2, -1, 0, -7, 6, 4, -5])"
      ]
    },
    {
      "cell_type": "code",
      "execution_count": 3,
      "metadata": {
        "colab": {
          "base_uri": "https://localhost:8080/"
        },
        "id": "kW_wdEMxpKDY",
        "outputId": "20181334-1b98-4c68-ecb3-f52b94a2bae2"
      },
      "outputs": [
        {
          "data": {
            "text/plain": [
              "array([-7. , -5. , -1. ,  0. ,  0.2,  4. ,  6. ,  9. ])"
            ]
          },
          "execution_count": 3,
          "metadata": {},
          "output_type": "execute_result"
        }
      ],
      "source": [
        "np.sort(x) # acending order"
      ]
    },
    {
      "cell_type": "code",
      "execution_count": 6,
      "metadata": {
        "colab": {
          "base_uri": "https://localhost:8080/"
        },
        "id": "7EJ-0OfypTNd",
        "outputId": "31202f1c-2423-41d7-bb54-84180ec30ca8"
      },
      "outputs": [
        {
          "data": {
            "text/plain": [
              "array([ 9. ,  6. ,  4. ,  0.2,  0. , -1. , -5. , -7. ])"
            ]
          },
          "execution_count": 6,
          "metadata": {},
          "output_type": "execute_result"
        }
      ],
      "source": [
        "np.flip(np.sort(x)) # descending order; if you flip ascending order it becomes descending"
      ]
    },
    {
      "cell_type": "markdown",
      "metadata": {
        "id": "UMpFOpL1pw-Y"
      },
      "source": [
        "* Concat"
      ]
    },
    {
      "cell_type": "code",
      "execution_count": null,
      "metadata": {
        "colab": {
          "base_uri": "https://localhost:8080/"
        },
        "id": "hj_iTVUtp1YU",
        "outputId": "831a8560-eca5-4787-826e-db9ee9418c64"
      },
      "outputs": [
        {
          "data": {
            "text/plain": [
              "[4, 8, 3, 6, 9]"
            ]
          },
          "execution_count": 6,
          "metadata": {},
          "output_type": "execute_result"
        }
      ],
      "source": [
        "# in list\n",
        "a = [4, 8]\n",
        "b= [3, 6, 9]\n",
        "a + b # list concat"
      ]
    },
    {
      "cell_type": "code",
      "execution_count": null,
      "metadata": {
        "id": "xZ8dld1XqETl"
      },
      "outputs": [],
      "source": [
        "# in array\n",
        "a = np.array([4, 8])\n",
        "b =np.array([3, 6, 9])"
      ]
    },
    {
      "cell_type": "code",
      "execution_count": null,
      "metadata": {
        "id": "N9VQqiEnqceC"
      },
      "outputs": [],
      "source": [
        "# a + b  \"+ operator le concatinae hudaina array ma\""
      ]
    },
    {
      "cell_type": "code",
      "execution_count": null,
      "metadata": {
        "colab": {
          "base_uri": "https://localhost:8080/"
        },
        "id": "XZzbWYYlqmZB",
        "outputId": "8864be8b-1459-48e0-b396-54aac1ae4739"
      },
      "outputs": [
        {
          "data": {
            "text/plain": [
              "array([4, 8, 3, 6, 9])"
            ]
          },
          "execution_count": 11,
          "metadata": {},
          "output_type": "execute_result"
        }
      ],
      "source": [
        "np.concatenate([a,b])"
      ]
    },
    {
      "cell_type": "markdown",
      "metadata": {
        "id": "VQTBgtBCqwv1"
      },
      "source": [
        "# vector operation and broadcasting"
      ]
    },
    {
      "cell_type": "markdown",
      "metadata": {
        "id": "UMXG3hCQsKaR"
      },
      "source": [
        "* vector operation:\n",
        "        vector operations focus on element-wise operations between arrays of the same shape."
      ]
    },
    {
      "cell_type": "code",
      "execution_count": null,
      "metadata": {
        "colab": {
          "base_uri": "https://localhost:8080/"
        },
        "id": "XHCFDtVnq2es",
        "outputId": "e654246a-6afd-4647-e3d2-cdbbbe39751a"
      },
      "outputs": [
        {
          "data": {
            "text/plain": [
              "array([10,  8,  4])"
            ]
          },
          "execution_count": 12,
          "metadata": {},
          "output_type": "execute_result"
        }
      ],
      "source": [
        "x = np.array([8, 4, 2])\n",
        "y = np.array([2, 4, 2])\n",
        "x + y"
      ]
    },
    {
      "cell_type": "code",
      "execution_count": null,
      "metadata": {
        "colab": {
          "base_uri": "https://localhost:8080/"
        },
        "id": "7gLfCY1yrGRc",
        "outputId": "c1ceeff6-c3a6-46b0-a13c-3ffcc4dee17a"
      },
      "outputs": [
        {
          "data": {
            "text/plain": [
              "array([6, 0, 0])"
            ]
          },
          "execution_count": 13,
          "metadata": {},
          "output_type": "execute_result"
        }
      ],
      "source": [
        "x - y"
      ]
    },
    {
      "cell_type": "code",
      "execution_count": null,
      "metadata": {
        "colab": {
          "base_uri": "https://localhost:8080/"
        },
        "id": "m6llLYUWrxq4",
        "outputId": "c955d930-810d-4c0e-9f86-192fc727a57a"
      },
      "outputs": [
        {
          "data": {
            "text/plain": [
              "array([4., 1., 1.])"
            ]
          },
          "execution_count": 14,
          "metadata": {},
          "output_type": "execute_result"
        }
      ],
      "source": [
        "x / y"
      ]
    },
    {
      "cell_type": "code",
      "execution_count": null,
      "metadata": {
        "colab": {
          "base_uri": "https://localhost:8080/"
        },
        "id": "AHf2Qurar0lR",
        "outputId": "9e6fabed-a0a0-418b-b719-5885a7b5c620"
      },
      "outputs": [
        {
          "data": {
            "text/plain": [
              "array([16, 16,  4])"
            ]
          },
          "execution_count": 15,
          "metadata": {},
          "output_type": "execute_result"
        }
      ],
      "source": [
        "x * y"
      ]
    },
    {
      "cell_type": "code",
      "execution_count": null,
      "metadata": {
        "colab": {
          "base_uri": "https://localhost:8080/"
        },
        "id": "uXm3IQGUsDjX",
        "outputId": "a57e7530-79a4-4597-fbd0-11fb53e8f10a"
      },
      "outputs": [
        {
          "data": {
            "text/plain": [
              "array([ 64, 256,   4])"
            ]
          },
          "execution_count": 16,
          "metadata": {},
          "output_type": "execute_result"
        }
      ],
      "source": [
        "x ** y"
      ]
    },
    {
      "cell_type": "markdown",
      "metadata": {
        "id": "25ubxuIPsTAZ"
      },
      "source": [
        "* vector broadcasting:\n",
        "         Vector broadcasting is a feature in Numpy that allows you to perform operations between arrays of different shape. It allows you to perform operations betweenarrays of diffrent shpaes by automatically adjusting the dimensions of the smaller array to make the operation valid."
      ]
    },
    {
      "cell_type": "code",
      "execution_count": null,
      "metadata": {
        "id": "jCqvSR62seeC"
      },
      "outputs": [],
      "source": [
        "a = np.array([8,9,6,1]) # vector broadcasting is used in brigthness"
      ]
    },
    {
      "cell_type": "code",
      "execution_count": null,
      "metadata": {
        "colab": {
          "base_uri": "https://localhost:8080/"
        },
        "id": "PIFdvCa7sqcL",
        "outputId": "04f9f777-7d2c-4ef0-fac4-46c318c3a126"
      },
      "outputs": [
        {
          "data": {
            "text/plain": [
              "array([16, 18, 12,  2])"
            ]
          },
          "execution_count": 18,
          "metadata": {},
          "output_type": "execute_result"
        }
      ],
      "source": [
        "2 * a"
      ]
    },
    {
      "cell_type": "code",
      "execution_count": null,
      "metadata": {
        "colab": {
          "base_uri": "https://localhost:8080/"
        },
        "id": "Qqeik7MTstgH",
        "outputId": "d1027f90-e6e4-4591-cc8c-d2b58ef53d14"
      },
      "outputs": [
        {
          "data": {
            "text/plain": [
              "array([11, 12,  9,  4])"
            ]
          },
          "execution_count": 19,
          "metadata": {},
          "output_type": "execute_result"
        }
      ],
      "source": [
        "3 + a"
      ]
    },
    {
      "cell_type": "code",
      "execution_count": 7,
      "metadata": {
        "colab": {
          "base_uri": "https://localhost:8080/"
        },
        "id": "bwhz2QU-UZE8",
        "outputId": "c679e564-9f05-44f0-a2a8-74d9a03a55aa"
      },
      "outputs": [
        {
          "data": {
            "text/plain": [
              "array([[11, 22, 33],\n",
              "       [14, 25, 36]])"
            ]
          },
          "execution_count": 7,
          "metadata": {},
          "output_type": "execute_result"
        }
      ],
      "source": [
        "# lets operate the operation between different shapes array\n",
        "a=np.array([[1,2,3],[4,5,6]])\n",
        "b=np.array([10,20,30])          #Broadcasting: b is automatically expanded to match the shape of a\n",
        "c= a+b\n",
        "c"
      ]
    },
    {
      "cell_type": "markdown",
      "metadata": {
        "id": "i_DXjLWktHlJ"
      },
      "source": [
        "# Statistics using Numpy"
      ]
    },
    {
      "cell_type": "code",
      "execution_count": null,
      "metadata": {
        "colab": {
          "base_uri": "https://localhost:8080/"
        },
        "id": "-OGpTfZrtNz1",
        "outputId": "c32611b8-800b-4b76-a248-2ce1738d48b4"
      },
      "outputs": [
        {
          "data": {
            "text/plain": [
              "array([45, 48,  1,  4,  4])"
            ]
          },
          "execution_count": 21,
          "metadata": {},
          "output_type": "execute_result"
        }
      ],
      "source": [
        "np.random.seed(0)\n",
        "data=np.random.randint(1,50,5)\n",
        "data"
      ]
    },
    {
      "cell_type": "code",
      "execution_count": null,
      "metadata": {
        "colab": {
          "base_uri": "https://localhost:8080/"
        },
        "id": "w0nPCtCctVzQ",
        "outputId": "ad547c02-ac5c-43c1-ecd2-42167728ff67"
      },
      "outputs": [
        {
          "data": {
            "text/plain": [
              "20.4"
            ]
          },
          "execution_count": 22,
          "metadata": {},
          "output_type": "execute_result"
        }
      ],
      "source": [
        "# to calculate the mean of data\n",
        "np.mean(data)"
      ]
    },
    {
      "cell_type": "code",
      "execution_count": null,
      "metadata": {
        "colab": {
          "base_uri": "https://localhost:8080/"
        },
        "id": "WVVwBGW7tiff",
        "outputId": "423fb4fc-0a48-4a48-b899-75f85094a804"
      },
      "outputs": [
        {
          "data": {
            "text/plain": [
              "4.0"
            ]
          },
          "execution_count": 23,
          "metadata": {},
          "output_type": "execute_result"
        }
      ],
      "source": [
        "# to calculate median\n",
        "np.median(data)"
      ]
    },
    {
      "cell_type": "code",
      "execution_count": null,
      "metadata": {
        "colab": {
          "base_uri": "https://localhost:8080/"
        },
        "id": "Wr6hnxoItn9j",
        "outputId": "c29feb13-7fe2-4996-e698-af8339feb40d"
      },
      "outputs": [],
      "source": [
        "# to calculate mode we need to import scipy\n",
        "from scipy.stats import mode\n",
        "mode(data) # mode 4 ho and frequency or count 2 ho"
      ]
    },
    {
      "cell_type": "code",
      "execution_count": null,
      "metadata": {
        "colab": {
          "base_uri": "https://localhost:8080/"
        },
        "id": "Cd1lnrRtuAh5",
        "outputId": "0b3905ee-c79a-4bd8-ab40-95e080d59404"
      },
      "outputs": [
        {
          "data": {
            "text/plain": [
              "21.35977527971678"
            ]
          },
          "execution_count": 25,
          "metadata": {},
          "output_type": "execute_result"
        }
      ],
      "source": [
        "# to calculate standard deviation\n",
        "np.std(data)"
      ]
    },
    {
      "cell_type": "code",
      "execution_count": null,
      "metadata": {
        "colab": {
          "base_uri": "https://localhost:8080/"
        },
        "id": "ep0Y4rHAuNKK",
        "outputId": "a13a6f2d-b5e0-4e9f-e53d-995365317fa6"
      },
      "outputs": [
        {
          "data": {
            "text/plain": [
              "456.23999999999995"
            ]
          },
          "execution_count": 26,
          "metadata": {},
          "output_type": "execute_result"
        }
      ],
      "source": [
        "# to calculate variance\n",
        "np.var(data)"
      ]
    },
    {
      "cell_type": "code",
      "execution_count": null,
      "metadata": {
        "colab": {
          "base_uri": "https://localhost:8080/"
        },
        "id": "08N3CkIEuaCv",
        "outputId": "27cb54aa-aaf0-4475-86c8-97ad7381c265"
      },
      "outputs": [
        {
          "data": {
            "text/plain": [
              "1"
            ]
          },
          "execution_count": 27,
          "metadata": {},
          "output_type": "execute_result"
        }
      ],
      "source": [
        "# to calculate minimum value\n",
        "np.min(data)"
      ]
    },
    {
      "cell_type": "code",
      "execution_count": null,
      "metadata": {
        "colab": {
          "base_uri": "https://localhost:8080/"
        },
        "id": "qACmLHKeumiq",
        "outputId": "089ad0c5-d2af-4563-e6c7-a5d1d7b6ebca"
      },
      "outputs": [
        {
          "data": {
            "text/plain": [
              "48"
            ]
          },
          "execution_count": 28,
          "metadata": {},
          "output_type": "execute_result"
        }
      ],
      "source": [
        "# to caltulate maximum value\n",
        "np.max(data)"
      ]
    },
    {
      "cell_type": "code",
      "execution_count": null,
      "metadata": {
        "colab": {
          "base_uri": "https://localhost:8080/"
        },
        "id": "OD6rcf_Tuqu8",
        "outputId": "c01b7dff-0dd9-45aa-df5f-8283b4c6f3f7"
      },
      "outputs": [
        {
          "data": {
            "text/plain": [
              "47"
            ]
          },
          "execution_count": 30,
          "metadata": {},
          "output_type": "execute_result"
        }
      ],
      "source": [
        "# to  calculate range\n",
        "range = np.max(data) - np.min(data)\n",
        "range"
      ]
    },
    {
      "cell_type": "code",
      "execution_count": null,
      "metadata": {
        "colab": {
          "base_uri": "https://localhost:8080/"
        },
        "id": "XVevAvZ-u180",
        "outputId": "a5ebefd1-df6a-4d77-9c21-86efe3e789b7"
      },
      "outputs": [
        {
          "data": {
            "text/plain": [
              "1"
            ]
          },
          "execution_count": 31,
          "metadata": {},
          "output_type": "execute_result"
        }
      ],
      "source": [
        "# to find out the index of 48 (maximum value)\n",
        "np.argmax(data) # arg tapepaxi chahin index herna mixa"
      ]
    },
    {
      "cell_type": "code",
      "execution_count": null,
      "metadata": {
        "colab": {
          "base_uri": "https://localhost:8080/"
        },
        "id": "WSO2vy4bvRtN",
        "outputId": "6a7be148-77bc-4b48-d025-a2a6dd064a72"
      },
      "outputs": [
        {
          "data": {
            "text/plain": [
              "2"
            ]
          },
          "execution_count": 32,
          "metadata": {},
          "output_type": "execute_result"
        }
      ],
      "source": [
        "# to find out the index of 1 (minimum value)\n",
        "np.argmin(data)"
      ]
    },
    {
      "cell_type": "markdown",
      "metadata": {
        "id": "10I1tM6Ev5Dw"
      },
      "source": [
        "# .any() vs .all()"
      ]
    },
    {
      "cell_type": "code",
      "execution_count": null,
      "metadata": {
        "id": "Ib1VRqmpv9Tm"
      },
      "outputs": [],
      "source": [
        "height = np.array([1,2,3,4,5,6,6,5,4,3,2,1])"
      ]
    },
    {
      "cell_type": "code",
      "execution_count": null,
      "metadata": {
        "colab": {
          "base_uri": "https://localhost:8080/"
        },
        "id": "87YxitjhwHAm",
        "outputId": "9415e92b-9500-46f9-a856-99fa00277b96"
      },
      "outputs": [
        {
          "data": {
            "text/plain": [
              "array([False, False, False, False,  True,  True,  True,  True, False,\n",
              "       False, False, False])"
            ]
          },
          "execution_count": 37,
          "metadata": {},
          "output_type": "execute_result"
        }
      ],
      "source": [
        "height>=5 # this condition is boradcast"
      ]
    },
    {
      "cell_type": "code",
      "execution_count": null,
      "metadata": {
        "colab": {
          "base_uri": "https://localhost:8080/"
        },
        "id": "KWSrcsQnwb8x",
        "outputId": "57c415f4-34f0-4c19-c054-19e225f1c63d"
      },
      "outputs": [
        {
          "data": {
            "text/plain": [
              "True"
            ]
          },
          "execution_count": 38,
          "metadata": {},
          "output_type": "execute_result"
        }
      ],
      "source": [
        "np.any(height>=5) # is there any person with hieght >= 5 ?"
      ]
    },
    {
      "cell_type": "code",
      "execution_count": null,
      "metadata": {
        "colab": {
          "base_uri": "https://localhost:8080/"
        },
        "id": "crSIyD1rw4aG",
        "outputId": "7cc5039c-c9ed-4ac6-8ff6-7dd8d340d63b"
      },
      "outputs": [
        {
          "data": {
            "text/plain": [
              "False"
            ]
          },
          "execution_count": 39,
          "metadata": {},
          "output_type": "execute_result"
        }
      ],
      "source": [
        "np.all(height>=5)"
      ]
    },
    {
      "cell_type": "code",
      "execution_count": null,
      "metadata": {
        "colab": {
          "base_uri": "https://localhost:8080/"
        },
        "id": "0K5_sdaCxOsz",
        "outputId": "da93f5da-a259-4ca1-9af7-a1eb4ae6d984"
      },
      "outputs": [
        {
          "data": {
            "text/plain": [
              "True"
            ]
          },
          "execution_count": 40,
          "metadata": {},
          "output_type": "execute_result"
        }
      ],
      "source": [
        "np.all(height>=1)"
      ]
    },
    {
      "cell_type": "code",
      "execution_count": null,
      "metadata": {
        "colab": {
          "base_uri": "https://localhost:8080/"
        },
        "id": "AkdLaylwxVsZ",
        "outputId": "136ec0ee-9e2b-46ce-820d-1e3742314b47"
      },
      "outputs": [
        {
          "data": {
            "text/plain": [
              "array([5, 6, 6, 5])"
            ]
          },
          "execution_count": 41,
          "metadata": {},
          "output_type": "execute_result"
        }
      ],
      "source": [
        "height[height>=5] # to find out exact number of person with 5 foot height"
      ]
    },
    {
      "cell_type": "code",
      "execution_count": null,
      "metadata": {
        "id": "fDtqT0DGx22c"
      },
      "outputs": [],
      "source": [
        "# to find out greater than 2 foot to less than 5 foot person\n",
        "height[height <2 and height > 5 ] # numpy array doesn't acept logical operator"
      ]
    },
    {
      "cell_type": "code",
      "execution_count": null,
      "metadata": {
        "colab": {
          "base_uri": "https://localhost:8080/"
        },
        "id": "izcy39DjymiO",
        "outputId": "f1ec178a-732c-43a4-f109-8efe9d3a23c4"
      },
      "outputs": [
        {
          "data": {
            "text/plain": [
              "[array([False, False, False, False, False, False, False, False, False,\n",
              "        False, False, False])]"
            ]
          },
          "execution_count": 44,
          "metadata": {},
          "output_type": "execute_result"
        }
      ],
      "source": [
        "# instead of use bitwise operator\n",
        "[(height<3) & (height>5)] # bitwise operator and (&) ko side ko condition haru () backet vitra lekhnu parxa"
      ]
    },
    {
      "cell_type": "code",
      "execution_count": null,
      "metadata": {
        "colab": {
          "base_uri": "https://localhost:8080/"
        },
        "id": "WGPKaPp9y7OH",
        "outputId": "1fe25325-86f0-4dcb-93f7-2aa9300a34e2"
      },
      "outputs": [
        {
          "data": {
            "text/plain": [
              "array([4, 4])"
            ]
          },
          "execution_count": 45,
          "metadata": {},
          "output_type": "execute_result"
        }
      ],
      "source": [
        "height[(height > 3) & (height < 5)]"
      ]
    },
    {
      "cell_type": "markdown",
      "metadata": {
        "id": "Iq3tSfKmzp-B"
      },
      "source": [
        "# Two dimensional array"
      ]
    },
    {
      "cell_type": "code",
      "execution_count": 3,
      "metadata": {
        "id": "j8NDl5QozxJC"
      },
      "outputs": [],
      "source": [
        "data = [ [1,2,3], [4,5,6], [7,8,9]] # it is list of list"
      ]
    },
    {
      "cell_type": "code",
      "execution_count": 4,
      "metadata": {
        "colab": {
          "base_uri": "https://localhost:8080/"
        },
        "id": "yVtyJDlr0DZ4",
        "outputId": "24057182-b89a-4f47-e338-57bdc63e48c3"
      },
      "outputs": [
        {
          "data": {
            "text/plain": [
              "array([[1, 2, 3],\n",
              "       [4, 5, 6],\n",
              "       [7, 8, 9]])"
            ]
          },
          "execution_count": 4,
          "metadata": {},
          "output_type": "execute_result"
        }
      ],
      "source": [
        "# converting to array\n",
        "matrix = np.array(data)\n",
        "matrix"
      ]
    },
    {
      "cell_type": "code",
      "execution_count": null,
      "metadata": {
        "colab": {
          "base_uri": "https://localhost:8080/"
        },
        "id": "FzQjVfTt0LNf",
        "outputId": "0df43771-0d11-4bf1-d14f-027c88219b99"
      },
      "outputs": [
        {
          "data": {
            "text/plain": [
              "(3, 3)"
            ]
          },
          "execution_count": 48,
          "metadata": {},
          "output_type": "execute_result"
        }
      ],
      "source": [
        "# to find shape\n",
        "matrix.shape # (no of rows and no of columns)"
      ]
    },
    {
      "cell_type": "code",
      "execution_count": null,
      "metadata": {
        "colab": {
          "base_uri": "https://localhost:8080/"
        },
        "id": "f5spxGeJ0cBl",
        "outputId": "8dab3593-f22a-48b0-f5a3-4857e26f65ce"
      },
      "outputs": [
        {
          "data": {
            "text/plain": [
              "2"
            ]
          },
          "execution_count": 49,
          "metadata": {},
          "output_type": "execute_result"
        }
      ],
      "source": [
        "# to find out no of dimension\n",
        "\n",
        "matrix.ndim"
      ]
    },
    {
      "cell_type": "code",
      "execution_count": null,
      "metadata": {
        "colab": {
          "base_uri": "https://localhost:8080/"
        },
        "id": "RvVATjgg0Q3w",
        "outputId": "c9577d45-21a5-479f-aeb8-ad4968fcfa10"
      },
      "outputs": [
        {
          "data": {
            "text/plain": [
              "2"
            ]
          },
          "execution_count": 50,
          "metadata": {},
          "output_type": "execute_result"
        }
      ],
      "source": [
        "matrix [0,1]"
      ]
    },
    {
      "cell_type": "code",
      "execution_count": null,
      "metadata": {
        "colab": {
          "base_uri": "https://localhost:8080/"
        },
        "id": "q88r-s1B1h9r",
        "outputId": "ff7d5261-5580-4871-b7f4-572bab2e69bd"
      },
      "outputs": [
        {
          "data": {
            "text/plain": [
              "9"
            ]
          },
          "execution_count": 51,
          "metadata": {},
          "output_type": "execute_result"
        }
      ],
      "source": [
        "matrix [2,2]"
      ]
    },
    {
      "cell_type": "code",
      "execution_count": null,
      "metadata": {
        "colab": {
          "base_uri": "https://localhost:8080/"
        },
        "id": "oyhwrloa1l13",
        "outputId": "c68a6ff8-2b36-4163-8456-6c71bfe3c501"
      },
      "outputs": [
        {
          "data": {
            "text/plain": [
              "6"
            ]
          },
          "execution_count": 53,
          "metadata": {},
          "output_type": "execute_result"
        }
      ],
      "source": [
        "matrix[1,2]"
      ]
    },
    {
      "cell_type": "code",
      "execution_count": null,
      "metadata": {
        "colab": {
          "base_uri": "https://localhost:8080/"
        },
        "id": "JdIJp4SN1qMB",
        "outputId": "d52fdc19-0dc6-4532-96ca-9f1ced949626"
      },
      "outputs": [
        {
          "data": {
            "text/plain": [
              "array([4, 5, 6])"
            ]
          },
          "execution_count": 54,
          "metadata": {},
          "output_type": "execute_result"
        }
      ],
      "source": [
        "matrix [1, :] # slicing"
      ]
    },
    {
      "cell_type": "code",
      "execution_count": null,
      "metadata": {
        "colab": {
          "base_uri": "https://localhost:8080/"
        },
        "id": "q7F3e8_v2ORz",
        "outputId": "5d575b96-9d5c-438c-c97b-0bdb414f1366"
      },
      "outputs": [
        {
          "data": {
            "text/plain": [
              "array([7, 8, 9])"
            ]
          },
          "execution_count": 55,
          "metadata": {},
          "output_type": "execute_result"
        }
      ],
      "source": [
        "matrix [2, :]"
      ]
    },
    {
      "cell_type": "code",
      "execution_count": null,
      "metadata": {
        "colab": {
          "base_uri": "https://localhost:8080/"
        },
        "id": "YP_BFm9F2JX8",
        "outputId": "64d86fba-6926-4227-d4bb-247f52d08312"
      },
      "outputs": [
        {
          "data": {
            "text/plain": [
              "array([3, 6, 9])"
            ]
          },
          "execution_count": 56,
          "metadata": {},
          "output_type": "execute_result"
        }
      ],
      "source": [
        "matrix [ :, 2]"
      ]
    },
    {
      "cell_type": "code",
      "execution_count": null,
      "metadata": {
        "colab": {
          "base_uri": "https://localhost:8080/"
        },
        "id": "7flb-7iZ2WOT",
        "outputId": "ab4e0468-888e-4a86-8065-739cb64c34de"
      },
      "outputs": [
        {
          "data": {
            "text/plain": [
              "array([1, 4, 7])"
            ]
          },
          "execution_count": 57,
          "metadata": {},
          "output_type": "execute_result"
        }
      ],
      "source": [
        "matrix [ : , 0]"
      ]
    },
    {
      "cell_type": "code",
      "execution_count": null,
      "metadata": {
        "colab": {
          "base_uri": "https://localhost:8080/"
        },
        "id": "QoLOC4sh2fu2",
        "outputId": "2a9247d1-9791-40d6-9a96-fd083e74a004"
      },
      "outputs": [
        {
          "data": {
            "text/plain": [
              "array([2, 5, 8])"
            ]
          },
          "execution_count": 58,
          "metadata": {},
          "output_type": "execute_result"
        }
      ],
      "source": [
        "matrix [:, 1]"
      ]
    },
    {
      "cell_type": "code",
      "execution_count": null,
      "metadata": {
        "colab": {
          "base_uri": "https://localhost:8080/"
        },
        "id": "SwlT9ZSL2h7D",
        "outputId": "64ada33c-16a6-45c0-95da-157743ef6fbd"
      },
      "outputs": [
        {
          "data": {
            "text/plain": [
              "array([[5, 6],\n",
              "       [8, 9]])"
            ]
          },
          "execution_count": 60,
          "metadata": {},
          "output_type": "execute_result"
        }
      ],
      "source": [
        "# to find out 5,6,8,9\n",
        "matrix[1 : , 1 :]"
      ]
    },
    {
      "cell_type": "code",
      "execution_count": null,
      "metadata": {
        "colab": {
          "base_uri": "https://localhost:8080/"
        },
        "id": "xaOojDh922aA",
        "outputId": "b75e8e2f-c9c5-4125-ad46-1be29906b81a"
      },
      "outputs": [
        {
          "data": {
            "text/plain": [
              "array([[4, 5],\n",
              "       [7, 8]])"
            ]
          },
          "execution_count": 65,
          "metadata": {},
          "output_type": "execute_result"
        }
      ],
      "source": [
        "matrix[1: , :2]"
      ]
    },
    {
      "cell_type": "code",
      "execution_count": 5,
      "metadata": {
        "id": "8dzlottRPY7F"
      },
      "outputs": [
        {
          "data": {
            "text/plain": [
              "array([[1, 2],\n",
              "       [4, 5]])"
            ]
          },
          "execution_count": 5,
          "metadata": {},
          "output_type": "execute_result"
        }
      ],
      "source": [
        "matrix[:2,:2]"
      ]
    },
    {
      "cell_type": "code",
      "execution_count": 6,
      "metadata": {
        "id": "l9jZzh7sPbzN"
      },
      "outputs": [
        {
          "data": {
            "text/plain": [
              "array([[ 1,  2,  3,  4,  5],\n",
              "       [ 6,  7,  8,  9, 10],\n",
              "       [11, 12, 13, 14, 15],\n",
              "       [16, 17, 18, 19, 20],\n",
              "       [21, 22, 23, 24, 25]])"
            ]
          },
          "execution_count": 6,
          "metadata": {},
          "output_type": "execute_result"
        }
      ],
      "source": [
        "# here we going to operate between 5*5 matrix\n",
        "x_matrix=np.array([[1,2,3,4,5],[6,7,8,9,10],[11,12,13,14,15],[16,17,18,19,20],[21,22,23,24,25]])\n",
        "x_matrix"
      ]
    },
    {
      "cell_type": "code",
      "execution_count": 7,
      "metadata": {},
      "outputs": [
        {
          "data": {
            "text/plain": [
              "2"
            ]
          },
          "execution_count": 7,
          "metadata": {},
          "output_type": "execute_result"
        }
      ],
      "source": [
        "x_matrix.ndim\n"
      ]
    },
    {
      "cell_type": "code",
      "execution_count": 8,
      "metadata": {},
      "outputs": [
        {
          "data": {
            "text/plain": [
              "array([[11, 12, 13, 14, 15],\n",
              "       [16, 17, 18, 19, 20]])"
            ]
          },
          "execution_count": 8,
          "metadata": {},
          "output_type": "execute_result"
        }
      ],
      "source": [
        "# to find out (11,12,13,14,15,16,17,18,19,20)\n",
        "x_matrix[2:4]"
      ]
    },
    {
      "cell_type": "code",
      "execution_count": 10,
      "metadata": {},
      "outputs": [
        {
          "data": {
            "text/plain": [
              "array([[1, 2],\n",
              "       [6, 7]])"
            ]
          },
          "execution_count": 10,
          "metadata": {},
          "output_type": "execute_result"
        }
      ],
      "source": [
        "# to find out (1,2,,6,7):\n",
        "x_matrix[:2,:2] "
      ]
    },
    {
      "cell_type": "code",
      "execution_count": 11,
      "metadata": {},
      "outputs": [
        {
          "data": {
            "text/plain": [
              "array([[11, 12],\n",
              "       [16, 17]])"
            ]
          },
          "execution_count": 11,
          "metadata": {},
          "output_type": "execute_result"
        }
      ],
      "source": [
        "# to find out (11,12,16,17)\n",
        "x_matrix[2:4,:2]"
      ]
    },
    {
      "cell_type": "code",
      "execution_count": 12,
      "metadata": {},
      "outputs": [
        {
          "data": {
            "text/plain": [
              "array([[11, 12],\n",
              "       [16, 17]])"
            ]
          },
          "execution_count": 12,
          "metadata": {},
          "output_type": "execute_result"
        }
      ],
      "source": [
        "# to find out(18,19,23,24)\n",
        "x_matrix[2:4,:2]"
      ]
    },
    {
      "cell_type": "code",
      "execution_count": 13,
      "metadata": {},
      "outputs": [
        {
          "data": {
            "text/plain": [
              "array([[1, 2, 3, 4, 5]])"
            ]
          },
          "execution_count": 13,
          "metadata": {},
          "output_type": "execute_result"
        }
      ],
      "source": [
        "# to find out (1,2,3,4,5)\n",
        "x_matrix[:1:2]"
      ]
    },
    {
      "cell_type": "code",
      "execution_count": 15,
      "metadata": {},
      "outputs": [
        {
          "data": {
            "text/plain": [
              "array([[ 6,  7,  8,  9, 10]])"
            ]
          },
          "execution_count": 15,
          "metadata": {},
          "output_type": "execute_result"
        }
      ],
      "source": [
        "# to find out (6,7,8,9,10)\n",
        "x_matrix[1:2]"
      ]
    },
    {
      "cell_type": "code",
      "execution_count": 16,
      "metadata": {},
      "outputs": [
        {
          "data": {
            "text/plain": [
              "array([[16, 17, 18, 19, 20]])"
            ]
          },
          "execution_count": 16,
          "metadata": {},
          "output_type": "execute_result"
        }
      ],
      "source": [
        "# to find out (16,17,18,19,20)\n",
        "x_matrix[3:4]"
      ]
    },
    {
      "cell_type": "code",
      "execution_count": 17,
      "metadata": {},
      "outputs": [
        {
          "data": {
            "text/plain": [
              "array([[21, 22, 23, 24, 25]])"
            ]
          },
          "execution_count": 17,
          "metadata": {},
          "output_type": "execute_result"
        }
      ],
      "source": [
        "# to fiind out (21,22,23,24,25)\n",
        "x_matrix[4:]"
      ]
    },
    {
      "cell_type": "code",
      "execution_count": 18,
      "metadata": {},
      "outputs": [
        {
          "data": {
            "text/plain": [
              "array([[11, 12, 13, 14, 15]])"
            ]
          },
          "execution_count": 18,
          "metadata": {},
          "output_type": "execute_result"
        }
      ],
      "source": [
        "# to find out(11,12,13,14,15)\n",
        "x_matrix[2:3]"
      ]
    },
    {
      "cell_type": "code",
      "execution_count": 19,
      "metadata": {},
      "outputs": [
        {
          "data": {
            "text/plain": [
              "array([[14, 15],\n",
              "       [19, 20]])"
            ]
          },
          "execution_count": 19,
          "metadata": {},
          "output_type": "execute_result"
        }
      ],
      "source": [
        "# to find out (14,15,19,20)\n",
        "x_matrix[2:4,3:]"
      ]
    },
    {
      "cell_type": "code",
      "execution_count": 20,
      "metadata": {},
      "outputs": [
        {
          "data": {
            "text/plain": [
              "array([[ 7,  8,  9],\n",
              "       [12, 13, 14]])"
            ]
          },
          "execution_count": 20,
          "metadata": {},
          "output_type": "execute_result"
        }
      ],
      "source": [
        "# to find out (7,8,9,12,13,14)\n",
        "x_matrix[1:3,1:4]"
      ]
    },
    {
      "cell_type": "code",
      "execution_count": null,
      "metadata": {},
      "outputs": [],
      "source": []
    }
  ],
  "metadata": {
    "colab": {
      "provenance": []
    },
    "kernelspec": {
      "display_name": "Python 3",
      "name": "python3"
    },
    "language_info": {
      "codemirror_mode": {
        "name": "ipython",
        "version": 3
      },
      "file_extension": ".py",
      "mimetype": "text/x-python",
      "name": "python",
      "nbconvert_exporter": "python",
      "pygments_lexer": "ipython3",
      "version": "3.12.0"
    }
  },
  "nbformat": 4,
  "nbformat_minor": 0
}
